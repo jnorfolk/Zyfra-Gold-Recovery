{
 "cells": [
  {
   "cell_type": "markdown",
   "id": "5626ba87-cea7-4817-adf3-aa4426df7267",
   "metadata": {},
   "source": [
    "# Zyfra Gold Recovery"
   ]
  },
  {
   "cell_type": "markdown",
   "id": "9d4172a6-0adf-467d-87b2-ccbea36d7457",
   "metadata": {},
   "source": [
    "# Introduction"
   ]
  },
  {
   "cell_type": "markdown",
   "id": "e70c5f4d-2e88-4804-aa74-b172690e2e17",
   "metadata": {},
   "source": [
    "The company Zyfra extracts gold concentrate from gold ore to make a profit. They would like to predict how much gold concentrate will be yielded from gold ore, optimizing their gold production. They have data collected from every stage of the gold extraction process. They have provided a training set, a test set, and a complete dataset. The complete dataset contains all of the observations, and all of the features/targets, even those calculated after extraction. The training set contains a subset of this data meant to train the prediction model. The test set, however, contains only the features that would be available to the company at the start of the extraction process, and therefore has fewer features and zero target data. This test set is important because this contains the data that the company wishes to make predictions off of.\n",
    "\n",
    "A regression model will need to be trained to make numerical predictions. We will try out linear regression and random forest regression models. I will skip decision tree regression as random forest tends to be more accurate. The metric for success will be symmetric mean absolute error (sMAPE), based on the predicted gold recovery vs the actual gold recovery. I will use the trained models to predict rougher concentrate recovery and final concentrate recovery, calculate sMAPE for each, and combine the two scores for our final performance score. Both linear and random forest regression models are able to predict multiple targets from a single model. \n",
    "\n",
    "First I will explore preprocess the data, verifying that recovery was calculated correctly and comparing the training set with the test set. Missing values will need to be dealt with, and targets selected. Then I will compare the concentrations of each of the metals at different stages and figure out if there are any observations I should drop, and compare feed size distributions between the training set and test set. Finally I will train models, calculate combined sMAPE scores, and use the better-scoring model as our final model, training the model on our full training set and then finding final sMAPE on the test set."
   ]
  },
  {
   "cell_type": "code",
   "execution_count": 1,
   "id": "dfac3430-11b6-47fb-8306-231579be3a65",
   "metadata": {},
   "outputs": [],
   "source": [
    "import pandas as pd\n",
    "import numpy as np\n",
    "import matplotlib.pyplot as plt\n",
    "import seaborn as sns\n",
    "\n",
    "# from sklearnex import patch_sklearn # Enhanced performance package for Intel processors\n",
    "# patch_sklearn()\n",
    "\n",
    "from sklearn.ensemble import RandomForestRegressor\n",
    "from sklearn.linear_model import LinearRegression\n",
    "from sklearn.model_selection import cross_val_score\n",
    "\n",
    "from sklearn.metrics import mean_absolute_error\n",
    "\n",
    "from joblib import dump"
   ]
  },
  {
   "cell_type": "markdown",
   "id": "160f7afd-f5fe-468f-81d4-6deba2da2b58",
   "metadata": {},
   "source": [
    "# Preprocessing"
   ]
  },
  {
   "cell_type": "code",
   "execution_count": 2,
   "id": "48ba238c-5cff-4c34-ad80-bad6daaed414",
   "metadata": {},
   "outputs": [],
   "source": [
    "try:\n",
    "    train = pd.read_csv('gold_recovery_train.csv')\n",
    "except:\n",
    "    train = pd.read_csv('/datasets/gold_recovery_train.csv')\n",
    "    \n",
    "try:    \n",
    "    test = pd.read_csv('gold_recovery_test.csv')\n",
    "except:\n",
    "    test = pd.read_csv('/datasets/gold_recovery_test.csv')\n",
    "    \n",
    "try:\n",
    "    full = pd.read_csv('gold_recovery_full.csv')\n",
    "except:\n",
    "    full = pd.read_csv('/datasets/gold_recovery_full.csv')"
   ]
  },
  {
   "cell_type": "code",
   "execution_count": 3,
   "id": "18c2da12-4340-46c0-a95e-02c1ddb88198",
   "metadata": {},
   "outputs": [
    {
     "data": {
      "text/html": [
       "<div>\n",
       "<style scoped>\n",
       "    .dataframe tbody tr th:only-of-type {\n",
       "        vertical-align: middle;\n",
       "    }\n",
       "\n",
       "    .dataframe tbody tr th {\n",
       "        vertical-align: top;\n",
       "    }\n",
       "\n",
       "    .dataframe thead th {\n",
       "        text-align: right;\n",
       "    }\n",
       "</style>\n",
       "<table border=\"1\" class=\"dataframe\">\n",
       "  <thead>\n",
       "    <tr style=\"text-align: right;\">\n",
       "      <th></th>\n",
       "      <th>date</th>\n",
       "      <th>final.output.concentrate_ag</th>\n",
       "      <th>final.output.concentrate_pb</th>\n",
       "      <th>final.output.concentrate_sol</th>\n",
       "      <th>final.output.concentrate_au</th>\n",
       "      <th>final.output.recovery</th>\n",
       "      <th>final.output.tail_ag</th>\n",
       "      <th>final.output.tail_pb</th>\n",
       "      <th>final.output.tail_sol</th>\n",
       "      <th>final.output.tail_au</th>\n",
       "      <th>...</th>\n",
       "      <th>secondary_cleaner.state.floatbank4_a_air</th>\n",
       "      <th>secondary_cleaner.state.floatbank4_a_level</th>\n",
       "      <th>secondary_cleaner.state.floatbank4_b_air</th>\n",
       "      <th>secondary_cleaner.state.floatbank4_b_level</th>\n",
       "      <th>secondary_cleaner.state.floatbank5_a_air</th>\n",
       "      <th>secondary_cleaner.state.floatbank5_a_level</th>\n",
       "      <th>secondary_cleaner.state.floatbank5_b_air</th>\n",
       "      <th>secondary_cleaner.state.floatbank5_b_level</th>\n",
       "      <th>secondary_cleaner.state.floatbank6_a_air</th>\n",
       "      <th>secondary_cleaner.state.floatbank6_a_level</th>\n",
       "    </tr>\n",
       "  </thead>\n",
       "  <tbody>\n",
       "    <tr>\n",
       "      <th>0</th>\n",
       "      <td>2016-01-15 00:00:00</td>\n",
       "      <td>6.055403</td>\n",
       "      <td>9.889648</td>\n",
       "      <td>5.507324</td>\n",
       "      <td>42.192020</td>\n",
       "      <td>70.541216</td>\n",
       "      <td>10.411962</td>\n",
       "      <td>0.895447</td>\n",
       "      <td>16.904297</td>\n",
       "      <td>2.143149</td>\n",
       "      <td>...</td>\n",
       "      <td>14.016835</td>\n",
       "      <td>-502.488007</td>\n",
       "      <td>12.099931</td>\n",
       "      <td>-504.715942</td>\n",
       "      <td>9.925633</td>\n",
       "      <td>-498.310211</td>\n",
       "      <td>8.079666</td>\n",
       "      <td>-500.470978</td>\n",
       "      <td>14.151341</td>\n",
       "      <td>-605.841980</td>\n",
       "    </tr>\n",
       "    <tr>\n",
       "      <th>1</th>\n",
       "      <td>2016-01-15 01:00:00</td>\n",
       "      <td>6.029369</td>\n",
       "      <td>9.968944</td>\n",
       "      <td>5.257781</td>\n",
       "      <td>42.701629</td>\n",
       "      <td>69.266198</td>\n",
       "      <td>10.462676</td>\n",
       "      <td>0.927452</td>\n",
       "      <td>16.634514</td>\n",
       "      <td>2.224930</td>\n",
       "      <td>...</td>\n",
       "      <td>13.992281</td>\n",
       "      <td>-505.503262</td>\n",
       "      <td>11.950531</td>\n",
       "      <td>-501.331529</td>\n",
       "      <td>10.039245</td>\n",
       "      <td>-500.169983</td>\n",
       "      <td>7.984757</td>\n",
       "      <td>-500.582168</td>\n",
       "      <td>13.998353</td>\n",
       "      <td>-599.787184</td>\n",
       "    </tr>\n",
       "    <tr>\n",
       "      <th>2</th>\n",
       "      <td>2016-01-15 02:00:00</td>\n",
       "      <td>6.055926</td>\n",
       "      <td>10.213995</td>\n",
       "      <td>5.383759</td>\n",
       "      <td>42.657501</td>\n",
       "      <td>68.116445</td>\n",
       "      <td>10.507046</td>\n",
       "      <td>0.953716</td>\n",
       "      <td>16.208849</td>\n",
       "      <td>2.257889</td>\n",
       "      <td>...</td>\n",
       "      <td>14.015015</td>\n",
       "      <td>-502.520901</td>\n",
       "      <td>11.912783</td>\n",
       "      <td>-501.133383</td>\n",
       "      <td>10.070913</td>\n",
       "      <td>-500.129135</td>\n",
       "      <td>8.013877</td>\n",
       "      <td>-500.517572</td>\n",
       "      <td>14.028663</td>\n",
       "      <td>-601.427363</td>\n",
       "    </tr>\n",
       "    <tr>\n",
       "      <th>3</th>\n",
       "      <td>2016-01-15 03:00:00</td>\n",
       "      <td>6.047977</td>\n",
       "      <td>9.977019</td>\n",
       "      <td>4.858634</td>\n",
       "      <td>42.689819</td>\n",
       "      <td>68.347543</td>\n",
       "      <td>10.422762</td>\n",
       "      <td>0.883763</td>\n",
       "      <td>16.532835</td>\n",
       "      <td>2.146849</td>\n",
       "      <td>...</td>\n",
       "      <td>14.036510</td>\n",
       "      <td>-500.857308</td>\n",
       "      <td>11.999550</td>\n",
       "      <td>-501.193686</td>\n",
       "      <td>9.970366</td>\n",
       "      <td>-499.201640</td>\n",
       "      <td>7.977324</td>\n",
       "      <td>-500.255908</td>\n",
       "      <td>14.005551</td>\n",
       "      <td>-599.996129</td>\n",
       "    </tr>\n",
       "    <tr>\n",
       "      <th>4</th>\n",
       "      <td>2016-01-15 04:00:00</td>\n",
       "      <td>6.148599</td>\n",
       "      <td>10.142511</td>\n",
       "      <td>4.939416</td>\n",
       "      <td>42.774141</td>\n",
       "      <td>66.927016</td>\n",
       "      <td>10.360302</td>\n",
       "      <td>0.792826</td>\n",
       "      <td>16.525686</td>\n",
       "      <td>2.055292</td>\n",
       "      <td>...</td>\n",
       "      <td>14.027298</td>\n",
       "      <td>-499.838632</td>\n",
       "      <td>11.953070</td>\n",
       "      <td>-501.053894</td>\n",
       "      <td>9.925709</td>\n",
       "      <td>-501.686727</td>\n",
       "      <td>7.894242</td>\n",
       "      <td>-500.356035</td>\n",
       "      <td>13.996647</td>\n",
       "      <td>-601.496691</td>\n",
       "    </tr>\n",
       "  </tbody>\n",
       "</table>\n",
       "<p>5 rows × 87 columns</p>\n",
       "</div>"
      ],
      "text/plain": [
       "                  date  final.output.concentrate_ag  \\\n",
       "0  2016-01-15 00:00:00                     6.055403   \n",
       "1  2016-01-15 01:00:00                     6.029369   \n",
       "2  2016-01-15 02:00:00                     6.055926   \n",
       "3  2016-01-15 03:00:00                     6.047977   \n",
       "4  2016-01-15 04:00:00                     6.148599   \n",
       "\n",
       "   final.output.concentrate_pb  final.output.concentrate_sol  \\\n",
       "0                     9.889648                      5.507324   \n",
       "1                     9.968944                      5.257781   \n",
       "2                    10.213995                      5.383759   \n",
       "3                     9.977019                      4.858634   \n",
       "4                    10.142511                      4.939416   \n",
       "\n",
       "   final.output.concentrate_au  final.output.recovery  final.output.tail_ag  \\\n",
       "0                    42.192020              70.541216             10.411962   \n",
       "1                    42.701629              69.266198             10.462676   \n",
       "2                    42.657501              68.116445             10.507046   \n",
       "3                    42.689819              68.347543             10.422762   \n",
       "4                    42.774141              66.927016             10.360302   \n",
       "\n",
       "   final.output.tail_pb  final.output.tail_sol  final.output.tail_au  ...  \\\n",
       "0              0.895447              16.904297              2.143149  ...   \n",
       "1              0.927452              16.634514              2.224930  ...   \n",
       "2              0.953716              16.208849              2.257889  ...   \n",
       "3              0.883763              16.532835              2.146849  ...   \n",
       "4              0.792826              16.525686              2.055292  ...   \n",
       "\n",
       "   secondary_cleaner.state.floatbank4_a_air  \\\n",
       "0                                 14.016835   \n",
       "1                                 13.992281   \n",
       "2                                 14.015015   \n",
       "3                                 14.036510   \n",
       "4                                 14.027298   \n",
       "\n",
       "   secondary_cleaner.state.floatbank4_a_level  \\\n",
       "0                                 -502.488007   \n",
       "1                                 -505.503262   \n",
       "2                                 -502.520901   \n",
       "3                                 -500.857308   \n",
       "4                                 -499.838632   \n",
       "\n",
       "   secondary_cleaner.state.floatbank4_b_air  \\\n",
       "0                                 12.099931   \n",
       "1                                 11.950531   \n",
       "2                                 11.912783   \n",
       "3                                 11.999550   \n",
       "4                                 11.953070   \n",
       "\n",
       "   secondary_cleaner.state.floatbank4_b_level  \\\n",
       "0                                 -504.715942   \n",
       "1                                 -501.331529   \n",
       "2                                 -501.133383   \n",
       "3                                 -501.193686   \n",
       "4                                 -501.053894   \n",
       "\n",
       "   secondary_cleaner.state.floatbank5_a_air  \\\n",
       "0                                  9.925633   \n",
       "1                                 10.039245   \n",
       "2                                 10.070913   \n",
       "3                                  9.970366   \n",
       "4                                  9.925709   \n",
       "\n",
       "   secondary_cleaner.state.floatbank5_a_level  \\\n",
       "0                                 -498.310211   \n",
       "1                                 -500.169983   \n",
       "2                                 -500.129135   \n",
       "3                                 -499.201640   \n",
       "4                                 -501.686727   \n",
       "\n",
       "   secondary_cleaner.state.floatbank5_b_air  \\\n",
       "0                                  8.079666   \n",
       "1                                  7.984757   \n",
       "2                                  8.013877   \n",
       "3                                  7.977324   \n",
       "4                                  7.894242   \n",
       "\n",
       "   secondary_cleaner.state.floatbank5_b_level  \\\n",
       "0                                 -500.470978   \n",
       "1                                 -500.582168   \n",
       "2                                 -500.517572   \n",
       "3                                 -500.255908   \n",
       "4                                 -500.356035   \n",
       "\n",
       "   secondary_cleaner.state.floatbank6_a_air  \\\n",
       "0                                 14.151341   \n",
       "1                                 13.998353   \n",
       "2                                 14.028663   \n",
       "3                                 14.005551   \n",
       "4                                 13.996647   \n",
       "\n",
       "   secondary_cleaner.state.floatbank6_a_level  \n",
       "0                                 -605.841980  \n",
       "1                                 -599.787184  \n",
       "2                                 -601.427363  \n",
       "3                                 -599.996129  \n",
       "4                                 -601.496691  \n",
       "\n",
       "[5 rows x 87 columns]"
      ]
     },
     "execution_count": 3,
     "metadata": {},
     "output_type": "execute_result"
    }
   ],
   "source": [
    "train.head()"
   ]
  },
  {
   "cell_type": "code",
   "execution_count": 4,
   "id": "21d53d0f-97ea-437a-98fd-299fb4a3817c",
   "metadata": {},
   "outputs": [
    {
     "name": "stdout",
     "output_type": "stream",
     "text": [
      "<class 'pandas.core.frame.DataFrame'>\n",
      "RangeIndex: 16860 entries, 0 to 16859\n",
      "Data columns (total 87 columns):\n",
      " #   Column                                              Non-Null Count  Dtype  \n",
      "---  ------                                              --------------  -----  \n",
      " 0   date                                                16860 non-null  object \n",
      " 1   final.output.concentrate_ag                         16788 non-null  float64\n",
      " 2   final.output.concentrate_pb                         16788 non-null  float64\n",
      " 3   final.output.concentrate_sol                        16490 non-null  float64\n",
      " 4   final.output.concentrate_au                         16789 non-null  float64\n",
      " 5   final.output.recovery                               15339 non-null  float64\n",
      " 6   final.output.tail_ag                                16794 non-null  float64\n",
      " 7   final.output.tail_pb                                16677 non-null  float64\n",
      " 8   final.output.tail_sol                               16715 non-null  float64\n",
      " 9   final.output.tail_au                                16794 non-null  float64\n",
      " 10  primary_cleaner.input.sulfate                       15553 non-null  float64\n",
      " 11  primary_cleaner.input.depressant                    15598 non-null  float64\n",
      " 12  primary_cleaner.input.feed_size                     16860 non-null  float64\n",
      " 13  primary_cleaner.input.xanthate                      15875 non-null  float64\n",
      " 14  primary_cleaner.output.concentrate_ag               16778 non-null  float64\n",
      " 15  primary_cleaner.output.concentrate_pb               16502 non-null  float64\n",
      " 16  primary_cleaner.output.concentrate_sol              16224 non-null  float64\n",
      " 17  primary_cleaner.output.concentrate_au               16778 non-null  float64\n",
      " 18  primary_cleaner.output.tail_ag                      16777 non-null  float64\n",
      " 19  primary_cleaner.output.tail_pb                      16761 non-null  float64\n",
      " 20  primary_cleaner.output.tail_sol                     16579 non-null  float64\n",
      " 21  primary_cleaner.output.tail_au                      16777 non-null  float64\n",
      " 22  primary_cleaner.state.floatbank8_a_air              16820 non-null  float64\n",
      " 23  primary_cleaner.state.floatbank8_a_level            16827 non-null  float64\n",
      " 24  primary_cleaner.state.floatbank8_b_air              16820 non-null  float64\n",
      " 25  primary_cleaner.state.floatbank8_b_level            16833 non-null  float64\n",
      " 26  primary_cleaner.state.floatbank8_c_air              16822 non-null  float64\n",
      " 27  primary_cleaner.state.floatbank8_c_level            16833 non-null  float64\n",
      " 28  primary_cleaner.state.floatbank8_d_air              16821 non-null  float64\n",
      " 29  primary_cleaner.state.floatbank8_d_level            16833 non-null  float64\n",
      " 30  rougher.calculation.sulfate_to_au_concentrate       16833 non-null  float64\n",
      " 31  rougher.calculation.floatbank10_sulfate_to_au_feed  16833 non-null  float64\n",
      " 32  rougher.calculation.floatbank11_sulfate_to_au_feed  16833 non-null  float64\n",
      " 33  rougher.calculation.au_pb_ratio                     15618 non-null  float64\n",
      " 34  rougher.input.feed_ag                               16778 non-null  float64\n",
      " 35  rougher.input.feed_pb                               16632 non-null  float64\n",
      " 36  rougher.input.feed_rate                             16347 non-null  float64\n",
      " 37  rougher.input.feed_size                             16443 non-null  float64\n",
      " 38  rougher.input.feed_sol                              16568 non-null  float64\n",
      " 39  rougher.input.feed_au                               16777 non-null  float64\n",
      " 40  rougher.input.floatbank10_sulfate                   15816 non-null  float64\n",
      " 41  rougher.input.floatbank10_xanthate                  16514 non-null  float64\n",
      " 42  rougher.input.floatbank11_sulfate                   16237 non-null  float64\n",
      " 43  rougher.input.floatbank11_xanthate                  14956 non-null  float64\n",
      " 44  rougher.output.concentrate_ag                       16778 non-null  float64\n",
      " 45  rougher.output.concentrate_pb                       16778 non-null  float64\n",
      " 46  rougher.output.concentrate_sol                      16698 non-null  float64\n",
      " 47  rougher.output.concentrate_au                       16778 non-null  float64\n",
      " 48  rougher.output.recovery                             14287 non-null  float64\n",
      " 49  rougher.output.tail_ag                              14610 non-null  float64\n",
      " 50  rougher.output.tail_pb                              16778 non-null  float64\n",
      " 51  rougher.output.tail_sol                             14611 non-null  float64\n",
      " 52  rougher.output.tail_au                              14611 non-null  float64\n",
      " 53  rougher.state.floatbank10_a_air                     16807 non-null  float64\n",
      " 54  rougher.state.floatbank10_a_level                   16807 non-null  float64\n",
      " 55  rougher.state.floatbank10_b_air                     16807 non-null  float64\n",
      " 56  rougher.state.floatbank10_b_level                   16807 non-null  float64\n",
      " 57  rougher.state.floatbank10_c_air                     16807 non-null  float64\n",
      " 58  rougher.state.floatbank10_c_level                   16814 non-null  float64\n",
      " 59  rougher.state.floatbank10_d_air                     16802 non-null  float64\n",
      " 60  rougher.state.floatbank10_d_level                   16809 non-null  float64\n",
      " 61  rougher.state.floatbank10_e_air                     16257 non-null  float64\n",
      " 62  rougher.state.floatbank10_e_level                   16809 non-null  float64\n",
      " 63  rougher.state.floatbank10_f_air                     16802 non-null  float64\n",
      " 64  rougher.state.floatbank10_f_level                   16802 non-null  float64\n",
      " 65  secondary_cleaner.output.tail_ag                    16776 non-null  float64\n",
      " 66  secondary_cleaner.output.tail_pb                    16764 non-null  float64\n",
      " 67  secondary_cleaner.output.tail_sol                   14874 non-null  float64\n",
      " 68  secondary_cleaner.output.tail_au                    16778 non-null  float64\n",
      " 69  secondary_cleaner.state.floatbank2_a_air            16497 non-null  float64\n",
      " 70  secondary_cleaner.state.floatbank2_a_level          16751 non-null  float64\n",
      " 71  secondary_cleaner.state.floatbank2_b_air            16705 non-null  float64\n",
      " 72  secondary_cleaner.state.floatbank2_b_level          16748 non-null  float64\n",
      " 73  secondary_cleaner.state.floatbank3_a_air            16763 non-null  float64\n",
      " 74  secondary_cleaner.state.floatbank3_a_level          16747 non-null  float64\n",
      " 75  secondary_cleaner.state.floatbank3_b_air            16752 non-null  float64\n",
      " 76  secondary_cleaner.state.floatbank3_b_level          16750 non-null  float64\n",
      " 77  secondary_cleaner.state.floatbank4_a_air            16731 non-null  float64\n",
      " 78  secondary_cleaner.state.floatbank4_a_level          16747 non-null  float64\n",
      " 79  secondary_cleaner.state.floatbank4_b_air            16768 non-null  float64\n",
      " 80  secondary_cleaner.state.floatbank4_b_level          16767 non-null  float64\n",
      " 81  secondary_cleaner.state.floatbank5_a_air            16775 non-null  float64\n",
      " 82  secondary_cleaner.state.floatbank5_a_level          16775 non-null  float64\n",
      " 83  secondary_cleaner.state.floatbank5_b_air            16775 non-null  float64\n",
      " 84  secondary_cleaner.state.floatbank5_b_level          16776 non-null  float64\n",
      " 85  secondary_cleaner.state.floatbank6_a_air            16757 non-null  float64\n",
      " 86  secondary_cleaner.state.floatbank6_a_level          16775 non-null  float64\n",
      "dtypes: float64(86), object(1)\n",
      "memory usage: 11.2+ MB\n"
     ]
    }
   ],
   "source": [
    "train.info()"
   ]
  },
  {
   "cell_type": "code",
   "execution_count": 5,
   "id": "0e991b44-d593-451d-a2e8-6d39b677882a",
   "metadata": {},
   "outputs": [
    {
     "name": "stdout",
     "output_type": "stream",
     "text": [
      "<class 'pandas.core.frame.DataFrame'>\n",
      "RangeIndex: 5856 entries, 0 to 5855\n",
      "Data columns (total 53 columns):\n",
      " #   Column                                      Non-Null Count  Dtype  \n",
      "---  ------                                      --------------  -----  \n",
      " 0   date                                        5856 non-null   object \n",
      " 1   primary_cleaner.input.sulfate               5554 non-null   float64\n",
      " 2   primary_cleaner.input.depressant            5572 non-null   float64\n",
      " 3   primary_cleaner.input.feed_size             5856 non-null   float64\n",
      " 4   primary_cleaner.input.xanthate              5690 non-null   float64\n",
      " 5   primary_cleaner.state.floatbank8_a_air      5840 non-null   float64\n",
      " 6   primary_cleaner.state.floatbank8_a_level    5840 non-null   float64\n",
      " 7   primary_cleaner.state.floatbank8_b_air      5840 non-null   float64\n",
      " 8   primary_cleaner.state.floatbank8_b_level    5840 non-null   float64\n",
      " 9   primary_cleaner.state.floatbank8_c_air      5840 non-null   float64\n",
      " 10  primary_cleaner.state.floatbank8_c_level    5840 non-null   float64\n",
      " 11  primary_cleaner.state.floatbank8_d_air      5840 non-null   float64\n",
      " 12  primary_cleaner.state.floatbank8_d_level    5840 non-null   float64\n",
      " 13  rougher.input.feed_ag                       5840 non-null   float64\n",
      " 14  rougher.input.feed_pb                       5840 non-null   float64\n",
      " 15  rougher.input.feed_rate                     5816 non-null   float64\n",
      " 16  rougher.input.feed_size                     5834 non-null   float64\n",
      " 17  rougher.input.feed_sol                      5789 non-null   float64\n",
      " 18  rougher.input.feed_au                       5840 non-null   float64\n",
      " 19  rougher.input.floatbank10_sulfate           5599 non-null   float64\n",
      " 20  rougher.input.floatbank10_xanthate          5733 non-null   float64\n",
      " 21  rougher.input.floatbank11_sulfate           5801 non-null   float64\n",
      " 22  rougher.input.floatbank11_xanthate          5503 non-null   float64\n",
      " 23  rougher.state.floatbank10_a_air             5839 non-null   float64\n",
      " 24  rougher.state.floatbank10_a_level           5840 non-null   float64\n",
      " 25  rougher.state.floatbank10_b_air             5839 non-null   float64\n",
      " 26  rougher.state.floatbank10_b_level           5840 non-null   float64\n",
      " 27  rougher.state.floatbank10_c_air             5839 non-null   float64\n",
      " 28  rougher.state.floatbank10_c_level           5840 non-null   float64\n",
      " 29  rougher.state.floatbank10_d_air             5839 non-null   float64\n",
      " 30  rougher.state.floatbank10_d_level           5840 non-null   float64\n",
      " 31  rougher.state.floatbank10_e_air             5839 non-null   float64\n",
      " 32  rougher.state.floatbank10_e_level           5840 non-null   float64\n",
      " 33  rougher.state.floatbank10_f_air             5839 non-null   float64\n",
      " 34  rougher.state.floatbank10_f_level           5840 non-null   float64\n",
      " 35  secondary_cleaner.state.floatbank2_a_air    5836 non-null   float64\n",
      " 36  secondary_cleaner.state.floatbank2_a_level  5840 non-null   float64\n",
      " 37  secondary_cleaner.state.floatbank2_b_air    5833 non-null   float64\n",
      " 38  secondary_cleaner.state.floatbank2_b_level  5840 non-null   float64\n",
      " 39  secondary_cleaner.state.floatbank3_a_air    5822 non-null   float64\n",
      " 40  secondary_cleaner.state.floatbank3_a_level  5840 non-null   float64\n",
      " 41  secondary_cleaner.state.floatbank3_b_air    5840 non-null   float64\n",
      " 42  secondary_cleaner.state.floatbank3_b_level  5840 non-null   float64\n",
      " 43  secondary_cleaner.state.floatbank4_a_air    5840 non-null   float64\n",
      " 44  secondary_cleaner.state.floatbank4_a_level  5840 non-null   float64\n",
      " 45  secondary_cleaner.state.floatbank4_b_air    5840 non-null   float64\n",
      " 46  secondary_cleaner.state.floatbank4_b_level  5840 non-null   float64\n",
      " 47  secondary_cleaner.state.floatbank5_a_air    5840 non-null   float64\n",
      " 48  secondary_cleaner.state.floatbank5_a_level  5840 non-null   float64\n",
      " 49  secondary_cleaner.state.floatbank5_b_air    5840 non-null   float64\n",
      " 50  secondary_cleaner.state.floatbank5_b_level  5840 non-null   float64\n",
      " 51  secondary_cleaner.state.floatbank6_a_air    5840 non-null   float64\n",
      " 52  secondary_cleaner.state.floatbank6_a_level  5840 non-null   float64\n",
      "dtypes: float64(52), object(1)\n",
      "memory usage: 2.4+ MB\n"
     ]
    }
   ],
   "source": [
    "test.info()"
   ]
  },
  {
   "cell_type": "code",
   "execution_count": 6,
   "id": "8b7c71d9-610a-476d-9052-827d9ef734ea",
   "metadata": {},
   "outputs": [
    {
     "name": "stdout",
     "output_type": "stream",
     "text": [
      "<class 'pandas.core.frame.DataFrame'>\n",
      "RangeIndex: 22716 entries, 0 to 22715\n",
      "Data columns (total 87 columns):\n",
      " #   Column                                              Non-Null Count  Dtype  \n",
      "---  ------                                              --------------  -----  \n",
      " 0   date                                                22716 non-null  object \n",
      " 1   final.output.concentrate_ag                         22627 non-null  float64\n",
      " 2   final.output.concentrate_pb                         22629 non-null  float64\n",
      " 3   final.output.concentrate_sol                        22331 non-null  float64\n",
      " 4   final.output.concentrate_au                         22630 non-null  float64\n",
      " 5   final.output.recovery                               20753 non-null  float64\n",
      " 6   final.output.tail_ag                                22633 non-null  float64\n",
      " 7   final.output.tail_pb                                22516 non-null  float64\n",
      " 8   final.output.tail_sol                               22445 non-null  float64\n",
      " 9   final.output.tail_au                                22635 non-null  float64\n",
      " 10  primary_cleaner.input.sulfate                       21107 non-null  float64\n",
      " 11  primary_cleaner.input.depressant                    21170 non-null  float64\n",
      " 12  primary_cleaner.input.feed_size                     22716 non-null  float64\n",
      " 13  primary_cleaner.input.xanthate                      21565 non-null  float64\n",
      " 14  primary_cleaner.output.concentrate_ag               22618 non-null  float64\n",
      " 15  primary_cleaner.output.concentrate_pb               22268 non-null  float64\n",
      " 16  primary_cleaner.output.concentrate_sol              21918 non-null  float64\n",
      " 17  primary_cleaner.output.concentrate_au               22618 non-null  float64\n",
      " 18  primary_cleaner.output.tail_ag                      22614 non-null  float64\n",
      " 19  primary_cleaner.output.tail_pb                      22594 non-null  float64\n",
      " 20  primary_cleaner.output.tail_sol                     22365 non-null  float64\n",
      " 21  primary_cleaner.output.tail_au                      22617 non-null  float64\n",
      " 22  primary_cleaner.state.floatbank8_a_air              22660 non-null  float64\n",
      " 23  primary_cleaner.state.floatbank8_a_level            22667 non-null  float64\n",
      " 24  primary_cleaner.state.floatbank8_b_air              22660 non-null  float64\n",
      " 25  primary_cleaner.state.floatbank8_b_level            22673 non-null  float64\n",
      " 26  primary_cleaner.state.floatbank8_c_air              22662 non-null  float64\n",
      " 27  primary_cleaner.state.floatbank8_c_level            22673 non-null  float64\n",
      " 28  primary_cleaner.state.floatbank8_d_air              22661 non-null  float64\n",
      " 29  primary_cleaner.state.floatbank8_d_level            22673 non-null  float64\n",
      " 30  rougher.calculation.sulfate_to_au_concentrate       22672 non-null  float64\n",
      " 31  rougher.calculation.floatbank10_sulfate_to_au_feed  22672 non-null  float64\n",
      " 32  rougher.calculation.floatbank11_sulfate_to_au_feed  22672 non-null  float64\n",
      " 33  rougher.calculation.au_pb_ratio                     21089 non-null  float64\n",
      " 34  rougher.input.feed_ag                               22618 non-null  float64\n",
      " 35  rougher.input.feed_pb                               22472 non-null  float64\n",
      " 36  rougher.input.feed_rate                             22163 non-null  float64\n",
      " 37  rougher.input.feed_size                             22277 non-null  float64\n",
      " 38  rougher.input.feed_sol                              22357 non-null  float64\n",
      " 39  rougher.input.feed_au                               22617 non-null  float64\n",
      " 40  rougher.input.floatbank10_sulfate                   21415 non-null  float64\n",
      " 41  rougher.input.floatbank10_xanthate                  22247 non-null  float64\n",
      " 42  rougher.input.floatbank11_sulfate                   22038 non-null  float64\n",
      " 43  rougher.input.floatbank11_xanthate                  20459 non-null  float64\n",
      " 44  rougher.output.concentrate_ag                       22618 non-null  float64\n",
      " 45  rougher.output.concentrate_pb                       22618 non-null  float64\n",
      " 46  rougher.output.concentrate_sol                      22526 non-null  float64\n",
      " 47  rougher.output.concentrate_au                       22618 non-null  float64\n",
      " 48  rougher.output.recovery                             19597 non-null  float64\n",
      " 49  rougher.output.tail_ag                              19979 non-null  float64\n",
      " 50  rougher.output.tail_pb                              22618 non-null  float64\n",
      " 51  rougher.output.tail_sol                             19980 non-null  float64\n",
      " 52  rougher.output.tail_au                              19980 non-null  float64\n",
      " 53  rougher.state.floatbank10_a_air                     22646 non-null  float64\n",
      " 54  rougher.state.floatbank10_a_level                   22647 non-null  float64\n",
      " 55  rougher.state.floatbank10_b_air                     22646 non-null  float64\n",
      " 56  rougher.state.floatbank10_b_level                   22647 non-null  float64\n",
      " 57  rougher.state.floatbank10_c_air                     22646 non-null  float64\n",
      " 58  rougher.state.floatbank10_c_level                   22654 non-null  float64\n",
      " 59  rougher.state.floatbank10_d_air                     22641 non-null  float64\n",
      " 60  rougher.state.floatbank10_d_level                   22649 non-null  float64\n",
      " 61  rougher.state.floatbank10_e_air                     22096 non-null  float64\n",
      " 62  rougher.state.floatbank10_e_level                   22649 non-null  float64\n",
      " 63  rougher.state.floatbank10_f_air                     22641 non-null  float64\n",
      " 64  rougher.state.floatbank10_f_level                   22642 non-null  float64\n",
      " 65  secondary_cleaner.output.tail_ag                    22616 non-null  float64\n",
      " 66  secondary_cleaner.output.tail_pb                    22600 non-null  float64\n",
      " 67  secondary_cleaner.output.tail_sol                   20501 non-null  float64\n",
      " 68  secondary_cleaner.output.tail_au                    22618 non-null  float64\n",
      " 69  secondary_cleaner.state.floatbank2_a_air            22333 non-null  float64\n",
      " 70  secondary_cleaner.state.floatbank2_a_level          22591 non-null  float64\n",
      " 71  secondary_cleaner.state.floatbank2_b_air            22538 non-null  float64\n",
      " 72  secondary_cleaner.state.floatbank2_b_level          22588 non-null  float64\n",
      " 73  secondary_cleaner.state.floatbank3_a_air            22585 non-null  float64\n",
      " 74  secondary_cleaner.state.floatbank3_a_level          22587 non-null  float64\n",
      " 75  secondary_cleaner.state.floatbank3_b_air            22592 non-null  float64\n",
      " 76  secondary_cleaner.state.floatbank3_b_level          22590 non-null  float64\n",
      " 77  secondary_cleaner.state.floatbank4_a_air            22571 non-null  float64\n",
      " 78  secondary_cleaner.state.floatbank4_a_level          22587 non-null  float64\n",
      " 79  secondary_cleaner.state.floatbank4_b_air            22608 non-null  float64\n",
      " 80  secondary_cleaner.state.floatbank4_b_level          22607 non-null  float64\n",
      " 81  secondary_cleaner.state.floatbank5_a_air            22615 non-null  float64\n",
      " 82  secondary_cleaner.state.floatbank5_a_level          22615 non-null  float64\n",
      " 83  secondary_cleaner.state.floatbank5_b_air            22615 non-null  float64\n",
      " 84  secondary_cleaner.state.floatbank5_b_level          22616 non-null  float64\n",
      " 85  secondary_cleaner.state.floatbank6_a_air            22597 non-null  float64\n",
      " 86  secondary_cleaner.state.floatbank6_a_level          22615 non-null  float64\n",
      "dtypes: float64(86), object(1)\n",
      "memory usage: 15.1+ MB\n"
     ]
    }
   ],
   "source": [
    "full.info()"
   ]
  },
  {
   "cell_type": "markdown",
   "id": "9d9b650a-4f97-40ff-b112-462cb561ccee",
   "metadata": {},
   "source": [
    "I observe that the full and training datasets contain 87 columns while the test set contains only 53"
   ]
  },
  {
   "cell_type": "code",
   "execution_count": 7,
   "id": "d340e9ec-8554-44c5-80e1-a920f3349239",
   "metadata": {},
   "outputs": [
    {
     "data": {
      "text/html": [
       "<div>\n",
       "<style scoped>\n",
       "    .dataframe tbody tr th:only-of-type {\n",
       "        vertical-align: middle;\n",
       "    }\n",
       "\n",
       "    .dataframe tbody tr th {\n",
       "        vertical-align: top;\n",
       "    }\n",
       "\n",
       "    .dataframe thead th {\n",
       "        text-align: right;\n",
       "    }\n",
       "</style>\n",
       "<table border=\"1\" class=\"dataframe\">\n",
       "  <thead>\n",
       "    <tr style=\"text-align: right;\">\n",
       "      <th></th>\n",
       "      <th>date</th>\n",
       "      <th>final.output.concentrate_ag</th>\n",
       "      <th>final.output.concentrate_pb</th>\n",
       "      <th>final.output.concentrate_sol</th>\n",
       "      <th>final.output.concentrate_au</th>\n",
       "      <th>final.output.recovery</th>\n",
       "      <th>final.output.tail_ag</th>\n",
       "      <th>final.output.tail_pb</th>\n",
       "      <th>final.output.tail_sol</th>\n",
       "      <th>final.output.tail_au</th>\n",
       "      <th>...</th>\n",
       "      <th>secondary_cleaner.state.floatbank4_a_air</th>\n",
       "      <th>secondary_cleaner.state.floatbank4_a_level</th>\n",
       "      <th>secondary_cleaner.state.floatbank4_b_air</th>\n",
       "      <th>secondary_cleaner.state.floatbank4_b_level</th>\n",
       "      <th>secondary_cleaner.state.floatbank5_a_air</th>\n",
       "      <th>secondary_cleaner.state.floatbank5_a_level</th>\n",
       "      <th>secondary_cleaner.state.floatbank5_b_air</th>\n",
       "      <th>secondary_cleaner.state.floatbank5_b_level</th>\n",
       "      <th>secondary_cleaner.state.floatbank6_a_air</th>\n",
       "      <th>secondary_cleaner.state.floatbank6_a_level</th>\n",
       "    </tr>\n",
       "  </thead>\n",
       "  <tbody>\n",
       "    <tr>\n",
       "      <th>0</th>\n",
       "      <td>2016-01-15 00:00:00</td>\n",
       "      <td>6.055403</td>\n",
       "      <td>9.889648</td>\n",
       "      <td>5.507324</td>\n",
       "      <td>42.192020</td>\n",
       "      <td>70.541216</td>\n",
       "      <td>10.411962</td>\n",
       "      <td>0.895447</td>\n",
       "      <td>16.904297</td>\n",
       "      <td>2.143149</td>\n",
       "      <td>...</td>\n",
       "      <td>14.016835</td>\n",
       "      <td>-502.488007</td>\n",
       "      <td>12.099931</td>\n",
       "      <td>-504.715942</td>\n",
       "      <td>9.925633</td>\n",
       "      <td>-498.310211</td>\n",
       "      <td>8.079666</td>\n",
       "      <td>-500.470978</td>\n",
       "      <td>14.151341</td>\n",
       "      <td>-605.841980</td>\n",
       "    </tr>\n",
       "    <tr>\n",
       "      <th>1</th>\n",
       "      <td>2016-01-15 01:00:00</td>\n",
       "      <td>6.029369</td>\n",
       "      <td>9.968944</td>\n",
       "      <td>5.257781</td>\n",
       "      <td>42.701629</td>\n",
       "      <td>69.266198</td>\n",
       "      <td>10.462676</td>\n",
       "      <td>0.927452</td>\n",
       "      <td>16.634514</td>\n",
       "      <td>2.224930</td>\n",
       "      <td>...</td>\n",
       "      <td>13.992281</td>\n",
       "      <td>-505.503262</td>\n",
       "      <td>11.950531</td>\n",
       "      <td>-501.331529</td>\n",
       "      <td>10.039245</td>\n",
       "      <td>-500.169983</td>\n",
       "      <td>7.984757</td>\n",
       "      <td>-500.582168</td>\n",
       "      <td>13.998353</td>\n",
       "      <td>-599.787184</td>\n",
       "    </tr>\n",
       "  </tbody>\n",
       "</table>\n",
       "<p>2 rows × 87 columns</p>\n",
       "</div>"
      ],
      "text/plain": [
       "                  date  final.output.concentrate_ag  \\\n",
       "0  2016-01-15 00:00:00                     6.055403   \n",
       "1  2016-01-15 01:00:00                     6.029369   \n",
       "\n",
       "   final.output.concentrate_pb  final.output.concentrate_sol  \\\n",
       "0                     9.889648                      5.507324   \n",
       "1                     9.968944                      5.257781   \n",
       "\n",
       "   final.output.concentrate_au  final.output.recovery  final.output.tail_ag  \\\n",
       "0                    42.192020              70.541216             10.411962   \n",
       "1                    42.701629              69.266198             10.462676   \n",
       "\n",
       "   final.output.tail_pb  final.output.tail_sol  final.output.tail_au  ...  \\\n",
       "0              0.895447              16.904297              2.143149  ...   \n",
       "1              0.927452              16.634514              2.224930  ...   \n",
       "\n",
       "   secondary_cleaner.state.floatbank4_a_air  \\\n",
       "0                                 14.016835   \n",
       "1                                 13.992281   \n",
       "\n",
       "   secondary_cleaner.state.floatbank4_a_level  \\\n",
       "0                                 -502.488007   \n",
       "1                                 -505.503262   \n",
       "\n",
       "   secondary_cleaner.state.floatbank4_b_air  \\\n",
       "0                                 12.099931   \n",
       "1                                 11.950531   \n",
       "\n",
       "   secondary_cleaner.state.floatbank4_b_level  \\\n",
       "0                                 -504.715942   \n",
       "1                                 -501.331529   \n",
       "\n",
       "   secondary_cleaner.state.floatbank5_a_air  \\\n",
       "0                                  9.925633   \n",
       "1                                 10.039245   \n",
       "\n",
       "   secondary_cleaner.state.floatbank5_a_level  \\\n",
       "0                                 -498.310211   \n",
       "1                                 -500.169983   \n",
       "\n",
       "   secondary_cleaner.state.floatbank5_b_air  \\\n",
       "0                                  8.079666   \n",
       "1                                  7.984757   \n",
       "\n",
       "   secondary_cleaner.state.floatbank5_b_level  \\\n",
       "0                                 -500.470978   \n",
       "1                                 -500.582168   \n",
       "\n",
       "   secondary_cleaner.state.floatbank6_a_air  \\\n",
       "0                                 14.151341   \n",
       "1                                 13.998353   \n",
       "\n",
       "   secondary_cleaner.state.floatbank6_a_level  \n",
       "0                                 -605.841980  \n",
       "1                                 -599.787184  \n",
       "\n",
       "[2 rows x 87 columns]"
      ]
     },
     "execution_count": 7,
     "metadata": {},
     "output_type": "execute_result"
    }
   ],
   "source": [
    "full.head(2)"
   ]
  },
  {
   "cell_type": "markdown",
   "id": "d81a977a-5cf7-4473-8972-17d3181739b7",
   "metadata": {
    "jp-MarkdownHeadingCollapsed": true,
    "tags": []
   },
   "source": [
    "## Verify recovery"
   ]
  },
  {
   "cell_type": "markdown",
   "id": "eb36d8ec-1b3f-4e34-95bb-5de108b3b4ad",
   "metadata": {},
   "source": [
    "$ (1)\\ recovery = {C*(F-T) \\over F*(C-T)} * 100\\% $"
   ]
  },
  {
   "cell_type": "code",
   "execution_count": 8,
   "id": "39b32172-2612-4da1-aeb2-af3f69da497d",
   "metadata": {},
   "outputs": [],
   "source": [
    "def calc_recov(C, F, T):\n",
    "    \n",
    "    \"\"\"\n",
    "    This function calculates gold recovery.\n",
    "    \n",
    "    To calculate rougher recovery, this function takes three series as inputs:\n",
    "    - C = rougher.output.concentrate_au\n",
    "    - F = rougher.input.feed_au\n",
    "    - T = rougher.output.tail_au\n",
    "        and returns the percentage recovery of gold concentrate after the roughing stage.\n",
    "    \n",
    "    To calculate final recovery, this function takes three measurements as inputs:\n",
    "    - C = final.output.concentrate_au\n",
    "    - F = rougher.output.concentrate_au\n",
    "    - T = final.tail_au\n",
    "        and returns the percentage recovery of gold concentrate after the final purification stage.\n",
    "    \"\"\"\n",
    "    \n",
    "    recovery = (C*(F-T)) / (F*(C-T)) * 100\n",
    "    \n",
    "    return recovery"
   ]
  },
  {
   "cell_type": "markdown",
   "id": "4aea8036-c1a4-4197-9462-dcab32a1240f",
   "metadata": {},
   "source": [
    "I want to calculate recovery for a row in the full dataset using my function to ensure that it works correctly, and that the values make sense."
   ]
  },
  {
   "cell_type": "code",
   "execution_count": 9,
   "id": "d65b7121-7d70-41e4-b829-88d9b336e772",
   "metadata": {},
   "outputs": [],
   "source": [
    "# I need to drop nans before I can calculate mean absolute error, I'd rather make a df copy for now\n",
    "train_cut = train.dropna(subset=['rougher.output.recovery', 'rougher.output.concentrate_au', 'rougher.input.feed_au', \\\n",
    "                                 'rougher.output.tail_au']) "
   ]
  },
  {
   "cell_type": "code",
   "execution_count": 10,
   "id": "db0b3cc0-66ab-4909-82b7-3bca227e7ee9",
   "metadata": {},
   "outputs": [
    {
     "data": {
      "text/plain": [
       "9.303415616264301e-15"
      ]
     },
     "execution_count": 10,
     "metadata": {},
     "output_type": "execute_result"
    }
   ],
   "source": [
    "recov = train_cut['rougher.output.recovery']\n",
    "pred_recov = calc_recov(train_cut['rougher.output.concentrate_au'], train_cut['rougher.input.feed_au'], train_cut['rougher.output.tail_au'])\n",
    "mean_absolute_error(recov, pred_recov)"
   ]
  },
  {
   "cell_type": "markdown",
   "id": "84a792e6-78de-4d38-b413-46b1119e92fd",
   "metadata": {},
   "source": [
    "Our recovery equation matches the recovery measurements exactly."
   ]
  },
  {
   "cell_type": "markdown",
   "id": "374563e2-bc1b-44af-9833-e6412c26c7ed",
   "metadata": {},
   "source": [
    "## Compare test set and training set"
   ]
  },
  {
   "cell_type": "markdown",
   "id": "632abfeb-31a8-41b9-9c10-c362041189ba",
   "metadata": {},
   "source": [
    "Let's check out the differences in columns between the training set and test set. The training set has more columns, so we should look at the columns that the test set is lacking."
   ]
  },
  {
   "cell_type": "code",
   "execution_count": 11,
   "id": "43e287eb-7401-4cb3-907a-6ecb09337c88",
   "metadata": {},
   "outputs": [],
   "source": [
    "test_columns = test.columns"
   ]
  },
  {
   "cell_type": "code",
   "execution_count": 12,
   "id": "6a9d5fd3-e584-4177-8deb-c4c9f89fd710",
   "metadata": {},
   "outputs": [
    {
     "name": "stdout",
     "output_type": "stream",
     "text": [
      "<class 'pandas.core.frame.DataFrame'>\n",
      "RangeIndex: 16860 entries, 0 to 16859\n",
      "Data columns (total 34 columns):\n",
      " #   Column                                              Non-Null Count  Dtype  \n",
      "---  ------                                              --------------  -----  \n",
      " 0   final.output.concentrate_ag                         16788 non-null  float64\n",
      " 1   final.output.concentrate_pb                         16788 non-null  float64\n",
      " 2   final.output.concentrate_sol                        16490 non-null  float64\n",
      " 3   final.output.concentrate_au                         16789 non-null  float64\n",
      " 4   final.output.recovery                               15339 non-null  float64\n",
      " 5   final.output.tail_ag                                16794 non-null  float64\n",
      " 6   final.output.tail_pb                                16677 non-null  float64\n",
      " 7   final.output.tail_sol                               16715 non-null  float64\n",
      " 8   final.output.tail_au                                16794 non-null  float64\n",
      " 9   primary_cleaner.output.concentrate_ag               16778 non-null  float64\n",
      " 10  primary_cleaner.output.concentrate_pb               16502 non-null  float64\n",
      " 11  primary_cleaner.output.concentrate_sol              16224 non-null  float64\n",
      " 12  primary_cleaner.output.concentrate_au               16778 non-null  float64\n",
      " 13  primary_cleaner.output.tail_ag                      16777 non-null  float64\n",
      " 14  primary_cleaner.output.tail_pb                      16761 non-null  float64\n",
      " 15  primary_cleaner.output.tail_sol                     16579 non-null  float64\n",
      " 16  primary_cleaner.output.tail_au                      16777 non-null  float64\n",
      " 17  rougher.calculation.sulfate_to_au_concentrate       16833 non-null  float64\n",
      " 18  rougher.calculation.floatbank10_sulfate_to_au_feed  16833 non-null  float64\n",
      " 19  rougher.calculation.floatbank11_sulfate_to_au_feed  16833 non-null  float64\n",
      " 20  rougher.calculation.au_pb_ratio                     15618 non-null  float64\n",
      " 21  rougher.output.concentrate_ag                       16778 non-null  float64\n",
      " 22  rougher.output.concentrate_pb                       16778 non-null  float64\n",
      " 23  rougher.output.concentrate_sol                      16698 non-null  float64\n",
      " 24  rougher.output.concentrate_au                       16778 non-null  float64\n",
      " 25  rougher.output.recovery                             14287 non-null  float64\n",
      " 26  rougher.output.tail_ag                              14610 non-null  float64\n",
      " 27  rougher.output.tail_pb                              16778 non-null  float64\n",
      " 28  rougher.output.tail_sol                             14611 non-null  float64\n",
      " 29  rougher.output.tail_au                              14611 non-null  float64\n",
      " 30  secondary_cleaner.output.tail_ag                    16776 non-null  float64\n",
      " 31  secondary_cleaner.output.tail_pb                    16764 non-null  float64\n",
      " 32  secondary_cleaner.output.tail_sol                   14874 non-null  float64\n",
      " 33  secondary_cleaner.output.tail_au                    16778 non-null  float64\n",
      "dtypes: float64(34)\n",
      "memory usage: 4.4 MB\n"
     ]
    }
   ],
   "source": [
    "drop_columns = train.drop(test_columns, axis=1)\n",
    "drop_columns.info()"
   ]
  },
  {
   "cell_type": "markdown",
   "id": "b251336a-e49a-405e-9d8e-a673681f1000",
   "metadata": {},
   "source": [
    "Looks like the values missing from the test set are all outputs and calculations, which is data that would not be available at the start of extraction. This set mimics the data that Zyfra would have at the time of real-world prediction. From this list, we should choose which data we would like to predict."
   ]
  },
  {
   "cell_type": "markdown",
   "id": "76533089-dede-4c97-9d56-f4910e9c892c",
   "metadata": {
    "tags": [],
    "toc-hr-collapsed": true
   },
   "source": [
    "## Preprocess datasets"
   ]
  },
  {
   "cell_type": "markdown",
   "id": "996fb46c-5b54-4195-b2f6-d74909e4e398",
   "metadata": {},
   "source": [
    "### Training set"
   ]
  },
  {
   "cell_type": "markdown",
   "id": "2e99e328-60c9-4a5f-af02-8f48a5696562",
   "metadata": {},
   "source": [
    "I will trim the training dataset down to the features and targets that I need, then drop nans at this point. I will split this table into training features and training targets. Later I will deal with the test set, dropping nans and getting targets from the full dataset.\n",
    "\n",
    "According to the company - observations in the datasets come in order of time, and adjacent observations tend to be similar. Even though I intend to train models later via cross-validation, I think it would be a good idea to shuffle the data once the rest of preprocessing is done. The linear regression shouldn't be affected, but the random forest model may be."
   ]
  },
  {
   "cell_type": "code",
   "execution_count": 13,
   "id": "bc95c6d1-ceba-4da3-95d8-976cac8e1e39",
   "metadata": {},
   "outputs": [],
   "source": [
    "targets = ['rougher.output.recovery', 'final.output.recovery']"
   ]
  },
  {
   "cell_type": "code",
   "execution_count": 14,
   "id": "bde013f7-af60-4e1f-a7a2-22ac2356eee9",
   "metadata": {},
   "outputs": [],
   "source": [
    "drop_columns.drop(targets, axis=1, inplace=True)\n",
    "trim_train = train.drop(drop_columns.columns, axis=1)"
   ]
  },
  {
   "cell_type": "code",
   "execution_count": 15,
   "id": "c79f58ae-7615-4d04-adef-5950c165e546",
   "metadata": {},
   "outputs": [
    {
     "name": "stdout",
     "output_type": "stream",
     "text": [
      "<class 'pandas.core.frame.DataFrame'>\n",
      "RangeIndex: 16860 entries, 0 to 16859\n",
      "Data columns (total 55 columns):\n",
      " #   Column                                      Non-Null Count  Dtype  \n",
      "---  ------                                      --------------  -----  \n",
      " 0   date                                        16860 non-null  object \n",
      " 1   final.output.recovery                       15339 non-null  float64\n",
      " 2   primary_cleaner.input.sulfate               15553 non-null  float64\n",
      " 3   primary_cleaner.input.depressant            15598 non-null  float64\n",
      " 4   primary_cleaner.input.feed_size             16860 non-null  float64\n",
      " 5   primary_cleaner.input.xanthate              15875 non-null  float64\n",
      " 6   primary_cleaner.state.floatbank8_a_air      16820 non-null  float64\n",
      " 7   primary_cleaner.state.floatbank8_a_level    16827 non-null  float64\n",
      " 8   primary_cleaner.state.floatbank8_b_air      16820 non-null  float64\n",
      " 9   primary_cleaner.state.floatbank8_b_level    16833 non-null  float64\n",
      " 10  primary_cleaner.state.floatbank8_c_air      16822 non-null  float64\n",
      " 11  primary_cleaner.state.floatbank8_c_level    16833 non-null  float64\n",
      " 12  primary_cleaner.state.floatbank8_d_air      16821 non-null  float64\n",
      " 13  primary_cleaner.state.floatbank8_d_level    16833 non-null  float64\n",
      " 14  rougher.input.feed_ag                       16778 non-null  float64\n",
      " 15  rougher.input.feed_pb                       16632 non-null  float64\n",
      " 16  rougher.input.feed_rate                     16347 non-null  float64\n",
      " 17  rougher.input.feed_size                     16443 non-null  float64\n",
      " 18  rougher.input.feed_sol                      16568 non-null  float64\n",
      " 19  rougher.input.feed_au                       16777 non-null  float64\n",
      " 20  rougher.input.floatbank10_sulfate           15816 non-null  float64\n",
      " 21  rougher.input.floatbank10_xanthate          16514 non-null  float64\n",
      " 22  rougher.input.floatbank11_sulfate           16237 non-null  float64\n",
      " 23  rougher.input.floatbank11_xanthate          14956 non-null  float64\n",
      " 24  rougher.output.recovery                     14287 non-null  float64\n",
      " 25  rougher.state.floatbank10_a_air             16807 non-null  float64\n",
      " 26  rougher.state.floatbank10_a_level           16807 non-null  float64\n",
      " 27  rougher.state.floatbank10_b_air             16807 non-null  float64\n",
      " 28  rougher.state.floatbank10_b_level           16807 non-null  float64\n",
      " 29  rougher.state.floatbank10_c_air             16807 non-null  float64\n",
      " 30  rougher.state.floatbank10_c_level           16814 non-null  float64\n",
      " 31  rougher.state.floatbank10_d_air             16802 non-null  float64\n",
      " 32  rougher.state.floatbank10_d_level           16809 non-null  float64\n",
      " 33  rougher.state.floatbank10_e_air             16257 non-null  float64\n",
      " 34  rougher.state.floatbank10_e_level           16809 non-null  float64\n",
      " 35  rougher.state.floatbank10_f_air             16802 non-null  float64\n",
      " 36  rougher.state.floatbank10_f_level           16802 non-null  float64\n",
      " 37  secondary_cleaner.state.floatbank2_a_air    16497 non-null  float64\n",
      " 38  secondary_cleaner.state.floatbank2_a_level  16751 non-null  float64\n",
      " 39  secondary_cleaner.state.floatbank2_b_air    16705 non-null  float64\n",
      " 40  secondary_cleaner.state.floatbank2_b_level  16748 non-null  float64\n",
      " 41  secondary_cleaner.state.floatbank3_a_air    16763 non-null  float64\n",
      " 42  secondary_cleaner.state.floatbank3_a_level  16747 non-null  float64\n",
      " 43  secondary_cleaner.state.floatbank3_b_air    16752 non-null  float64\n",
      " 44  secondary_cleaner.state.floatbank3_b_level  16750 non-null  float64\n",
      " 45  secondary_cleaner.state.floatbank4_a_air    16731 non-null  float64\n",
      " 46  secondary_cleaner.state.floatbank4_a_level  16747 non-null  float64\n",
      " 47  secondary_cleaner.state.floatbank4_b_air    16768 non-null  float64\n",
      " 48  secondary_cleaner.state.floatbank4_b_level  16767 non-null  float64\n",
      " 49  secondary_cleaner.state.floatbank5_a_air    16775 non-null  float64\n",
      " 50  secondary_cleaner.state.floatbank5_a_level  16775 non-null  float64\n",
      " 51  secondary_cleaner.state.floatbank5_b_air    16775 non-null  float64\n",
      " 52  secondary_cleaner.state.floatbank5_b_level  16776 non-null  float64\n",
      " 53  secondary_cleaner.state.floatbank6_a_air    16757 non-null  float64\n",
      " 54  secondary_cleaner.state.floatbank6_a_level  16775 non-null  float64\n",
      "dtypes: float64(54), object(1)\n",
      "memory usage: 7.1+ MB\n"
     ]
    }
   ],
   "source": [
    "trim_train.info()"
   ]
  },
  {
   "cell_type": "markdown",
   "id": "bfd2d790-0e3a-4d94-a120-d2204ad4b09c",
   "metadata": {},
   "source": [
    "I need to remove nans so that I can run a regression model and calculate metrics. Because adjacent observations are similar to each other, I can use the preceeding values to fill the missing values with the forward fill method."
   ]
  },
  {
   "cell_type": "code",
   "execution_count": 16,
   "id": "d52b0382-0884-4e3b-b90c-c02597981377",
   "metadata": {},
   "outputs": [],
   "source": [
    "trim_train = trim_train.fillna(method='ffill')"
   ]
  },
  {
   "cell_type": "code",
   "execution_count": 17,
   "id": "1cc50ed8-dcec-44b9-a020-e5ecd4b7cff9",
   "metadata": {},
   "outputs": [
    {
     "name": "stdout",
     "output_type": "stream",
     "text": [
      "0\n"
     ]
    }
   ],
   "source": [
    "print(trim_train.duplicated().sum())"
   ]
  },
  {
   "cell_type": "markdown",
   "id": "b0e29269-930f-4c6e-86bc-02670a0665ad",
   "metadata": {},
   "source": [
    "No duplicates."
   ]
  },
  {
   "cell_type": "markdown",
   "id": "22f12aa2-3137-45a6-9a76-22f2055cc6cb",
   "metadata": {},
   "source": [
    "Let's split the training set into features and targets."
   ]
  },
  {
   "cell_type": "code",
   "execution_count": 18,
   "id": "3d556a56-d7fb-49df-8a4d-e3d39fc82a29",
   "metadata": {},
   "outputs": [],
   "source": [
    "target_train = trim_train[targets]\n",
    "features_train = trim_train.drop(targets, axis=1).drop('date', axis=1)"
   ]
  },
  {
   "cell_type": "markdown",
   "id": "1efdca6d-731d-4d67-ab43-a3a9d82cec71",
   "metadata": {},
   "source": [
    "Let's shuffle this data, using the same random state for each."
   ]
  },
  {
   "cell_type": "code",
   "execution_count": 24,
   "id": "ed436edb-5192-403f-ba6c-1d3790691f3d",
   "metadata": {},
   "outputs": [],
   "source": [
    "target_train = target_train.sample(frac=1, random_state=0)\n",
    "features_train = features_train.sample(frac=1, random_state=0)"
   ]
  },
  {
   "cell_type": "code",
   "execution_count": 25,
   "id": "ecda6e2a-1313-48fe-89c9-645f3813b15b",
   "metadata": {},
   "outputs": [
    {
     "data": {
      "text/html": [
       "<div>\n",
       "<style scoped>\n",
       "    .dataframe tbody tr th:only-of-type {\n",
       "        vertical-align: middle;\n",
       "    }\n",
       "\n",
       "    .dataframe tbody tr th {\n",
       "        vertical-align: top;\n",
       "    }\n",
       "\n",
       "    .dataframe thead th {\n",
       "        text-align: right;\n",
       "    }\n",
       "</style>\n",
       "<table border=\"1\" class=\"dataframe\">\n",
       "  <thead>\n",
       "    <tr style=\"text-align: right;\">\n",
       "      <th></th>\n",
       "      <th>rougher.output.recovery</th>\n",
       "      <th>final.output.recovery</th>\n",
       "    </tr>\n",
       "  </thead>\n",
       "  <tbody>\n",
       "    <tr>\n",
       "      <th>3940</th>\n",
       "      <td>66.026247</td>\n",
       "      <td>62.031380</td>\n",
       "    </tr>\n",
       "    <tr>\n",
       "      <th>16439</th>\n",
       "      <td>86.671538</td>\n",
       "      <td>47.912042</td>\n",
       "    </tr>\n",
       "  </tbody>\n",
       "</table>\n",
       "</div>"
      ],
      "text/plain": [
       "       rougher.output.recovery  final.output.recovery\n",
       "3940                 66.026247              62.031380\n",
       "16439                86.671538              47.912042"
      ]
     },
     "execution_count": 25,
     "metadata": {},
     "output_type": "execute_result"
    }
   ],
   "source": [
    "target_train.head(2)"
   ]
  },
  {
   "cell_type": "code",
   "execution_count": 26,
   "id": "ad7d66b2-7e63-4d9b-ad78-078e1fc7e37b",
   "metadata": {},
   "outputs": [
    {
     "data": {
      "text/html": [
       "<div>\n",
       "<style scoped>\n",
       "    .dataframe tbody tr th:only-of-type {\n",
       "        vertical-align: middle;\n",
       "    }\n",
       "\n",
       "    .dataframe tbody tr th {\n",
       "        vertical-align: top;\n",
       "    }\n",
       "\n",
       "    .dataframe thead th {\n",
       "        text-align: right;\n",
       "    }\n",
       "</style>\n",
       "<table border=\"1\" class=\"dataframe\">\n",
       "  <thead>\n",
       "    <tr style=\"text-align: right;\">\n",
       "      <th></th>\n",
       "      <th>primary_cleaner.input.sulfate</th>\n",
       "      <th>primary_cleaner.input.depressant</th>\n",
       "      <th>primary_cleaner.input.feed_size</th>\n",
       "      <th>primary_cleaner.input.xanthate</th>\n",
       "      <th>primary_cleaner.state.floatbank8_a_air</th>\n",
       "      <th>primary_cleaner.state.floatbank8_a_level</th>\n",
       "      <th>primary_cleaner.state.floatbank8_b_air</th>\n",
       "      <th>primary_cleaner.state.floatbank8_b_level</th>\n",
       "      <th>primary_cleaner.state.floatbank8_c_air</th>\n",
       "      <th>primary_cleaner.state.floatbank8_c_level</th>\n",
       "      <th>...</th>\n",
       "      <th>secondary_cleaner.state.floatbank4_a_air</th>\n",
       "      <th>secondary_cleaner.state.floatbank4_a_level</th>\n",
       "      <th>secondary_cleaner.state.floatbank4_b_air</th>\n",
       "      <th>secondary_cleaner.state.floatbank4_b_level</th>\n",
       "      <th>secondary_cleaner.state.floatbank5_a_air</th>\n",
       "      <th>secondary_cleaner.state.floatbank5_a_level</th>\n",
       "      <th>secondary_cleaner.state.floatbank5_b_air</th>\n",
       "      <th>secondary_cleaner.state.floatbank5_b_level</th>\n",
       "      <th>secondary_cleaner.state.floatbank6_a_air</th>\n",
       "      <th>secondary_cleaner.state.floatbank6_a_level</th>\n",
       "    </tr>\n",
       "  </thead>\n",
       "  <tbody>\n",
       "    <tr>\n",
       "      <th>3940</th>\n",
       "      <td>115.269922</td>\n",
       "      <td>5.082314</td>\n",
       "      <td>6.70</td>\n",
       "      <td>1.21681</td>\n",
       "      <td>1701.814042</td>\n",
       "      <td>-499.651303</td>\n",
       "      <td>1701.308178</td>\n",
       "      <td>-500.160385</td>\n",
       "      <td>1602.757723</td>\n",
       "      <td>-500.928801</td>\n",
       "      <td>...</td>\n",
       "      <td>17.000481</td>\n",
       "      <td>-500.155551</td>\n",
       "      <td>8.928812</td>\n",
       "      <td>-499.554612</td>\n",
       "      <td>16.960833</td>\n",
       "      <td>-498.390625</td>\n",
       "      <td>7.939123</td>\n",
       "      <td>-499.809924</td>\n",
       "      <td>25.055938</td>\n",
       "      <td>-500.835423</td>\n",
       "    </tr>\n",
       "    <tr>\n",
       "      <th>16439</th>\n",
       "      <td>205.223541</td>\n",
       "      <td>12.023802</td>\n",
       "      <td>7.28</td>\n",
       "      <td>1.16875</td>\n",
       "      <td>1649.486033</td>\n",
       "      <td>-500.268720</td>\n",
       "      <td>1648.124094</td>\n",
       "      <td>-500.338944</td>\n",
       "      <td>1649.751123</td>\n",
       "      <td>-500.359607</td>\n",
       "      <td>...</td>\n",
       "      <td>22.049851</td>\n",
       "      <td>-500.327331</td>\n",
       "      <td>16.935114</td>\n",
       "      <td>-498.845902</td>\n",
       "      <td>17.021523</td>\n",
       "      <td>-500.096542</td>\n",
       "      <td>13.007198</td>\n",
       "      <td>-500.090707</td>\n",
       "      <td>18.009721</td>\n",
       "      <td>-500.609166</td>\n",
       "    </tr>\n",
       "  </tbody>\n",
       "</table>\n",
       "<p>2 rows × 52 columns</p>\n",
       "</div>"
      ],
      "text/plain": [
       "       primary_cleaner.input.sulfate  primary_cleaner.input.depressant  \\\n",
       "3940                      115.269922                          5.082314   \n",
       "16439                     205.223541                         12.023802   \n",
       "\n",
       "       primary_cleaner.input.feed_size  primary_cleaner.input.xanthate  \\\n",
       "3940                              6.70                         1.21681   \n",
       "16439                             7.28                         1.16875   \n",
       "\n",
       "       primary_cleaner.state.floatbank8_a_air  \\\n",
       "3940                              1701.814042   \n",
       "16439                             1649.486033   \n",
       "\n",
       "       primary_cleaner.state.floatbank8_a_level  \\\n",
       "3940                                -499.651303   \n",
       "16439                               -500.268720   \n",
       "\n",
       "       primary_cleaner.state.floatbank8_b_air  \\\n",
       "3940                              1701.308178   \n",
       "16439                             1648.124094   \n",
       "\n",
       "       primary_cleaner.state.floatbank8_b_level  \\\n",
       "3940                                -500.160385   \n",
       "16439                               -500.338944   \n",
       "\n",
       "       primary_cleaner.state.floatbank8_c_air  \\\n",
       "3940                              1602.757723   \n",
       "16439                             1649.751123   \n",
       "\n",
       "       primary_cleaner.state.floatbank8_c_level  ...  \\\n",
       "3940                                -500.928801  ...   \n",
       "16439                               -500.359607  ...   \n",
       "\n",
       "       secondary_cleaner.state.floatbank4_a_air  \\\n",
       "3940                                  17.000481   \n",
       "16439                                 22.049851   \n",
       "\n",
       "       secondary_cleaner.state.floatbank4_a_level  \\\n",
       "3940                                  -500.155551   \n",
       "16439                                 -500.327331   \n",
       "\n",
       "       secondary_cleaner.state.floatbank4_b_air  \\\n",
       "3940                                   8.928812   \n",
       "16439                                 16.935114   \n",
       "\n",
       "       secondary_cleaner.state.floatbank4_b_level  \\\n",
       "3940                                  -499.554612   \n",
       "16439                                 -498.845902   \n",
       "\n",
       "       secondary_cleaner.state.floatbank5_a_air  \\\n",
       "3940                                  16.960833   \n",
       "16439                                 17.021523   \n",
       "\n",
       "       secondary_cleaner.state.floatbank5_a_level  \\\n",
       "3940                                  -498.390625   \n",
       "16439                                 -500.096542   \n",
       "\n",
       "       secondary_cleaner.state.floatbank5_b_air  \\\n",
       "3940                                   7.939123   \n",
       "16439                                 13.007198   \n",
       "\n",
       "       secondary_cleaner.state.floatbank5_b_level  \\\n",
       "3940                                  -499.809924   \n",
       "16439                                 -500.090707   \n",
       "\n",
       "       secondary_cleaner.state.floatbank6_a_air  \\\n",
       "3940                                  25.055938   \n",
       "16439                                 18.009721   \n",
       "\n",
       "       secondary_cleaner.state.floatbank6_a_level  \n",
       "3940                                  -500.835423  \n",
       "16439                                 -500.609166  \n",
       "\n",
       "[2 rows x 52 columns]"
      ]
     },
     "execution_count": 26,
     "metadata": {},
     "output_type": "execute_result"
    }
   ],
   "source": [
    "features_train.head(2)"
   ]
  },
  {
   "cell_type": "markdown",
   "id": "83e1c175-b7c6-4841-9871-27de1750b363",
   "metadata": {},
   "source": [
    "Done. Indexes match positions.\n",
    "\n",
    "Some groups of features share scales - others do not. Concentrations of materials are on vastly different scales than air volume and fluid levels. Some standardization may be needed. I am going to run my models without standardizing and, if needed, return later to try my models with standardizing."
   ]
  },
  {
   "cell_type": "markdown",
   "id": "796ad906-e8e6-4b64-9ee8-d4042f592430",
   "metadata": {
    "tags": []
   },
   "source": [
    "### Collect targets for test set"
   ]
  },
  {
   "cell_type": "markdown",
   "id": "bedab015-8b7a-46ea-b092-0875d4b6a721",
   "metadata": {},
   "source": [
    "I will perform similar preprocessing on the test set, making similar decisions, as I did for the training set.\n",
    "\n",
    "The test set does not come with target values, as the test set represents the data that will be available to the company before the extraction process. I want to be able to test the performance of the models by having a target available to me for comparison, if possible. I will create an extra dataset that contains the full data for the test observations, then I can collect the target values into a series for later comparison with the predictions."
   ]
  },
  {
   "cell_type": "code",
   "execution_count": 27,
   "id": "6a67fab9-952e-4667-900b-f59970550486",
   "metadata": {},
   "outputs": [
    {
     "name": "stdout",
     "output_type": "stream",
     "text": [
      "0\n",
      "0\n"
     ]
    }
   ],
   "source": [
    "print(test.date.duplicated().sum())\n",
    "print(full.date.duplicated().sum())"
   ]
  },
  {
   "cell_type": "markdown",
   "id": "2eba435c-5898-45a3-bcb5-087316fc52f1",
   "metadata": {},
   "source": [
    "The dates are unique for the test and the full datasets."
   ]
  },
  {
   "cell_type": "code",
   "execution_count": 28,
   "id": "118f5256-96f2-41c9-bbe2-8bcd7d96d6ab",
   "metadata": {},
   "outputs": [
    {
     "name": "stdout",
     "output_type": "stream",
     "text": [
      "(5856, 87)\n"
     ]
    }
   ],
   "source": [
    "test_full = full[full.date.isin(test.date)]\n",
    "print(test_full.shape)\n",
    "test_full_trimmed = test_full.fillna(method='ffill')"
   ]
  },
  {
   "cell_type": "markdown",
   "id": "22aef858-4512-4c6c-a7fb-0c7ce2043bc3",
   "metadata": {},
   "source": [
    "Again, nans are filled with the preceeding values."
   ]
  },
  {
   "cell_type": "code",
   "execution_count": 29,
   "id": "3a1cf4ed-2b1a-420c-9785-a6826fae9a85",
   "metadata": {},
   "outputs": [],
   "source": [
    "features_test = test_full_trimmed.drop('date', axis=1).drop(drop_columns.columns, axis=1).drop(targets, axis=1).reset_index(drop=True)\n",
    "target_test = test_full_trimmed[targets].reset_index(drop=True)"
   ]
  },
  {
   "cell_type": "markdown",
   "id": "7bbac80a-b818-439c-bf8b-777249b4bfe3",
   "metadata": {},
   "source": [
    "Let's again shuffle the observations."
   ]
  },
  {
   "cell_type": "code",
   "execution_count": 30,
   "id": "222cf73c-3478-4e69-9f9a-6a11d361d827",
   "metadata": {},
   "outputs": [],
   "source": [
    "features_test = features_test.sample(frac=1, random_state=0)\n",
    "target_test = target_test.sample(frac=1, random_state=0)"
   ]
  },
  {
   "cell_type": "code",
   "execution_count": 31,
   "id": "5f625120-4802-45c5-a3cc-b79311fbb8fc",
   "metadata": {},
   "outputs": [
    {
     "data": {
      "text/html": [
       "<div>\n",
       "<style scoped>\n",
       "    .dataframe tbody tr th:only-of-type {\n",
       "        vertical-align: middle;\n",
       "    }\n",
       "\n",
       "    .dataframe tbody tr th {\n",
       "        vertical-align: top;\n",
       "    }\n",
       "\n",
       "    .dataframe thead th {\n",
       "        text-align: right;\n",
       "    }\n",
       "</style>\n",
       "<table border=\"1\" class=\"dataframe\">\n",
       "  <thead>\n",
       "    <tr style=\"text-align: right;\">\n",
       "      <th></th>\n",
       "      <th>primary_cleaner.input.sulfate</th>\n",
       "      <th>primary_cleaner.input.depressant</th>\n",
       "      <th>primary_cleaner.input.feed_size</th>\n",
       "      <th>primary_cleaner.input.xanthate</th>\n",
       "      <th>primary_cleaner.state.floatbank8_a_air</th>\n",
       "      <th>primary_cleaner.state.floatbank8_a_level</th>\n",
       "      <th>primary_cleaner.state.floatbank8_b_air</th>\n",
       "      <th>primary_cleaner.state.floatbank8_b_level</th>\n",
       "      <th>primary_cleaner.state.floatbank8_c_air</th>\n",
       "      <th>primary_cleaner.state.floatbank8_c_level</th>\n",
       "      <th>...</th>\n",
       "      <th>secondary_cleaner.state.floatbank4_a_air</th>\n",
       "      <th>secondary_cleaner.state.floatbank4_a_level</th>\n",
       "      <th>secondary_cleaner.state.floatbank4_b_air</th>\n",
       "      <th>secondary_cleaner.state.floatbank4_b_level</th>\n",
       "      <th>secondary_cleaner.state.floatbank5_a_air</th>\n",
       "      <th>secondary_cleaner.state.floatbank5_a_level</th>\n",
       "      <th>secondary_cleaner.state.floatbank5_b_air</th>\n",
       "      <th>secondary_cleaner.state.floatbank5_b_level</th>\n",
       "      <th>secondary_cleaner.state.floatbank6_a_air</th>\n",
       "      <th>secondary_cleaner.state.floatbank6_a_level</th>\n",
       "    </tr>\n",
       "  </thead>\n",
       "  <tbody>\n",
       "    <tr>\n",
       "      <th>4031</th>\n",
       "      <td>213.043191</td>\n",
       "      <td>6.490066</td>\n",
       "      <td>6.65</td>\n",
       "      <td>2.391526</td>\n",
       "      <td>1502.139909</td>\n",
       "      <td>-499.100848</td>\n",
       "      <td>1502.129624</td>\n",
       "      <td>-488.368088</td>\n",
       "      <td>1496.555007</td>\n",
       "      <td>-506.723378</td>\n",
       "      <td>...</td>\n",
       "      <td>17.994600</td>\n",
       "      <td>-499.358412</td>\n",
       "      <td>16.006259</td>\n",
       "      <td>-399.352233</td>\n",
       "      <td>12.955698</td>\n",
       "      <td>-499.834036</td>\n",
       "      <td>9.945527</td>\n",
       "      <td>-499.959387</td>\n",
       "      <td>13.986509</td>\n",
       "      <td>-499.566150</td>\n",
       "    </tr>\n",
       "    <tr>\n",
       "      <th>1790</th>\n",
       "      <td>221.732738</td>\n",
       "      <td>8.684621</td>\n",
       "      <td>7.16</td>\n",
       "      <td>0.945199</td>\n",
       "      <td>1596.039863</td>\n",
       "      <td>-500.679427</td>\n",
       "      <td>1601.048421</td>\n",
       "      <td>-500.211949</td>\n",
       "      <td>1598.080722</td>\n",
       "      <td>-509.774330</td>\n",
       "      <td>...</td>\n",
       "      <td>15.971493</td>\n",
       "      <td>-501.032805</td>\n",
       "      <td>13.984239</td>\n",
       "      <td>-502.369591</td>\n",
       "      <td>14.882311</td>\n",
       "      <td>-501.346112</td>\n",
       "      <td>14.022224</td>\n",
       "      <td>-500.334287</td>\n",
       "      <td>22.003192</td>\n",
       "      <td>-503.541797</td>\n",
       "    </tr>\n",
       "  </tbody>\n",
       "</table>\n",
       "<p>2 rows × 52 columns</p>\n",
       "</div>"
      ],
      "text/plain": [
       "      primary_cleaner.input.sulfate  primary_cleaner.input.depressant  \\\n",
       "4031                     213.043191                          6.490066   \n",
       "1790                     221.732738                          8.684621   \n",
       "\n",
       "      primary_cleaner.input.feed_size  primary_cleaner.input.xanthate  \\\n",
       "4031                             6.65                        2.391526   \n",
       "1790                             7.16                        0.945199   \n",
       "\n",
       "      primary_cleaner.state.floatbank8_a_air  \\\n",
       "4031                             1502.139909   \n",
       "1790                             1596.039863   \n",
       "\n",
       "      primary_cleaner.state.floatbank8_a_level  \\\n",
       "4031                               -499.100848   \n",
       "1790                               -500.679427   \n",
       "\n",
       "      primary_cleaner.state.floatbank8_b_air  \\\n",
       "4031                             1502.129624   \n",
       "1790                             1601.048421   \n",
       "\n",
       "      primary_cleaner.state.floatbank8_b_level  \\\n",
       "4031                               -488.368088   \n",
       "1790                               -500.211949   \n",
       "\n",
       "      primary_cleaner.state.floatbank8_c_air  \\\n",
       "4031                             1496.555007   \n",
       "1790                             1598.080722   \n",
       "\n",
       "      primary_cleaner.state.floatbank8_c_level  ...  \\\n",
       "4031                               -506.723378  ...   \n",
       "1790                               -509.774330  ...   \n",
       "\n",
       "      secondary_cleaner.state.floatbank4_a_air  \\\n",
       "4031                                 17.994600   \n",
       "1790                                 15.971493   \n",
       "\n",
       "      secondary_cleaner.state.floatbank4_a_level  \\\n",
       "4031                                 -499.358412   \n",
       "1790                                 -501.032805   \n",
       "\n",
       "      secondary_cleaner.state.floatbank4_b_air  \\\n",
       "4031                                 16.006259   \n",
       "1790                                 13.984239   \n",
       "\n",
       "      secondary_cleaner.state.floatbank4_b_level  \\\n",
       "4031                                 -399.352233   \n",
       "1790                                 -502.369591   \n",
       "\n",
       "      secondary_cleaner.state.floatbank5_a_air  \\\n",
       "4031                                 12.955698   \n",
       "1790                                 14.882311   \n",
       "\n",
       "      secondary_cleaner.state.floatbank5_a_level  \\\n",
       "4031                                 -499.834036   \n",
       "1790                                 -501.346112   \n",
       "\n",
       "      secondary_cleaner.state.floatbank5_b_air  \\\n",
       "4031                                  9.945527   \n",
       "1790                                 14.022224   \n",
       "\n",
       "      secondary_cleaner.state.floatbank5_b_level  \\\n",
       "4031                                 -499.959387   \n",
       "1790                                 -500.334287   \n",
       "\n",
       "      secondary_cleaner.state.floatbank6_a_air  \\\n",
       "4031                                 13.986509   \n",
       "1790                                 22.003192   \n",
       "\n",
       "      secondary_cleaner.state.floatbank6_a_level  \n",
       "4031                                 -499.566150  \n",
       "1790                                 -503.541797  \n",
       "\n",
       "[2 rows x 52 columns]"
      ]
     },
     "execution_count": 31,
     "metadata": {},
     "output_type": "execute_result"
    }
   ],
   "source": [
    "features_test.head(2)"
   ]
  },
  {
   "cell_type": "code",
   "execution_count": 32,
   "id": "1014642c-733a-4357-9c80-dce3b837b360",
   "metadata": {},
   "outputs": [
    {
     "data": {
      "text/html": [
       "<div>\n",
       "<style scoped>\n",
       "    .dataframe tbody tr th:only-of-type {\n",
       "        vertical-align: middle;\n",
       "    }\n",
       "\n",
       "    .dataframe tbody tr th {\n",
       "        vertical-align: top;\n",
       "    }\n",
       "\n",
       "    .dataframe thead th {\n",
       "        text-align: right;\n",
       "    }\n",
       "</style>\n",
       "<table border=\"1\" class=\"dataframe\">\n",
       "  <thead>\n",
       "    <tr style=\"text-align: right;\">\n",
       "      <th></th>\n",
       "      <th>rougher.output.recovery</th>\n",
       "      <th>final.output.recovery</th>\n",
       "    </tr>\n",
       "  </thead>\n",
       "  <tbody>\n",
       "    <tr>\n",
       "      <th>4031</th>\n",
       "      <td>88.072093</td>\n",
       "      <td>64.915883</td>\n",
       "    </tr>\n",
       "    <tr>\n",
       "      <th>1790</th>\n",
       "      <td>88.831665</td>\n",
       "      <td>68.178405</td>\n",
       "    </tr>\n",
       "  </tbody>\n",
       "</table>\n",
       "</div>"
      ],
      "text/plain": [
       "      rougher.output.recovery  final.output.recovery\n",
       "4031                88.072093              64.915883\n",
       "1790                88.831665              68.178405"
      ]
     },
     "execution_count": 32,
     "metadata": {},
     "output_type": "execute_result"
    }
   ],
   "source": [
    "target_test.head(2)"
   ]
  },
  {
   "cell_type": "markdown",
   "id": "bc56c3c7-6a8a-41b3-8c9b-826dc6cab2b9",
   "metadata": {},
   "source": [
    "I have visually verified that the features and the targets match indexes."
   ]
  },
  {
   "cell_type": "markdown",
   "id": "f5ede14a-4340-48cd-9b38-8e57b0a74954",
   "metadata": {},
   "source": [
    "# Analyze Data"
   ]
  },
  {
   "cell_type": "markdown",
   "id": "a0edd6ab-8d9e-40b6-baec-5da7ee18151f",
   "metadata": {},
   "source": [
    "## Check concentrations of metals"
   ]
  },
  {
   "cell_type": "markdown",
   "id": "64fab4f2-99a8-4890-9f45-41698c2ccd29",
   "metadata": {},
   "source": [
    "Let's see how the concentrations of the metals vary with stage of extraction. I will use the full dataset for this. I predict that the concentration of gold will increase, while the concentrations of silver and lead will decrease."
   ]
  },
  {
   "cell_type": "code",
   "execution_count": null,
   "id": "ce0a672c-d8ec-4fa0-9a76-5c460ad576ab",
   "metadata": {},
   "outputs": [],
   "source": [
    "def metals_eda(metal):\n",
    "    \n",
    "    \"\"\"\n",
    "    This function takes a string as input that represents the metal I wish to evaluate concentration distributions for. \n",
    "    \n",
    "    For each metal I want to look at both the distributions for concentrations for the concentrates and the tails, \n",
    "        in the form of boxplots ordered from raw feed to final stage. \n",
    "    \"\"\"\n",
    "    \n",
    "    conc_cols = ['rougher.input.feed_', 'rougher.output.concentrate_', 'primary_cleaner.output.concentrate_', \\\n",
    "                 'final.output.concentrate_']\n",
    "    conc_cols = [column + metal for column in conc_cols]\n",
    "    \n",
    "    tail_cols = ['rougher.input.feed_', 'rougher.output.tail_', 'primary_cleaner.output.tail_', \\\n",
    "                 'secondary_cleaner.output.tail_', 'final.output.tail_']\n",
    "    tail_cols = [column + metal for column in tail_cols]\n",
    "    \n",
    "    plt.figure(figsize=(14,4))\n",
    "    sns.boxplot(full[conc_cols])\n",
    "    plt.title(f\"Concentration of concentrate at each stage for {metal.capitalize()}\")\n",
    "    \n",
    "    plt.figure(figsize=(14,4))\n",
    "    sns.boxplot(full[tail_cols])\n",
    "    plt.title(f\"Concentration of tail at each stage for {metal.capitalize()}\")"
   ]
  },
  {
   "cell_type": "markdown",
   "id": "8156db67-cc19-4c5d-af7d-cf3521543c72",
   "metadata": {},
   "source": [
    "Let's check gold first (Au)."
   ]
  },
  {
   "cell_type": "code",
   "execution_count": null,
   "id": "b9b50588-8670-45a4-bed9-f3a14f139d40",
   "metadata": {},
   "outputs": [],
   "source": [
    "metals_eda('au')"
   ]
  },
  {
   "cell_type": "markdown",
   "id": "4c97c661-ca86-4df9-bee0-a5f9f85e6ba9",
   "metadata": {},
   "source": [
    "Excellent - as expected, the concentration of gold concentrate increases through the stages of the extraction process. The concentration of gold in the tails stays fairly low throughout the process, which is good, because ideally, there would be zero gold in the tails for the gold extraction process. The concentration of gold starts at around 10 and finishes at nearly 50 by the end of the process. There seem to be a number of outliers where final gold concentration is low in concentrate but high in the tails, which is far from ideal."
   ]
  },
  {
   "cell_type": "code",
   "execution_count": null,
   "id": "4186a1ac-e8c6-49fb-8aad-156a7fc77fa4",
   "metadata": {},
   "outputs": [],
   "source": [
    "metals_eda('pb')"
   ]
  },
  {
   "cell_type": "markdown",
   "id": "e957a468-6c36-46ad-805e-40c386166707",
   "metadata": {},
   "source": [
    "The concentration of lead starts low at around 3 but rises to around 10 by the end, which is still much less than the gold. The tail concentration fluctuates a bit but stays in the same general range throughout the process. "
   ]
  },
  {
   "cell_type": "code",
   "execution_count": null,
   "id": "22162184-7509-438a-b328-4b33fd21ca44",
   "metadata": {},
   "outputs": [],
   "source": [
    "metals_eda('ag')"
   ]
  },
  {
   "cell_type": "markdown",
   "id": "d3956ab9-a972-4a48-898f-f8f87af332c7",
   "metadata": {},
   "source": [
    "Silver concentration in the concentrate rises after the rougher stage but ultimately is lower than its starting concentration by the end of the process. There is a fairly high concentration of silver in the tails at each stage. The purification process seems to do a better job at reducing the concentration of silver than it does lead."
   ]
  },
  {
   "cell_type": "markdown",
   "id": "2a740c41-53b5-4c72-bdae-034f84f62d9d",
   "metadata": {
    "tags": []
   },
   "source": [
    "## Remove flawed observations"
   ]
  },
  {
   "cell_type": "markdown",
   "id": "26c3e9ab-d210-488b-bd9d-42cc593afe2f",
   "metadata": {},
   "source": [
    "I want to see what happens to the length of the training and test datasets if I remove observations where the final concentration of gold is lower than or equal to the concentration of gold in the input feed, as this should not happen in a gold extraction process. This relationship should be extremely uncommon. Below I will write a function that will allow me to compare these values and edit the dataframes, along with allowing me to compare any other values I wish."
   ]
  },
  {
   "cell_type": "code",
   "execution_count": null,
   "id": "a274fa1f-f0b8-4146-af96-e401be6d0ce3",
   "metadata": {
    "tags": []
   },
   "outputs": [],
   "source": [
    "def trim_rows(features_df, target_df, features_col, target_col, greater=True):\n",
    "    \n",
    "    \"\"\"\n",
    "    This function trims rows from a pair of dataframes (training or testing sets) based on a certain measurement \n",
    "        from one dataframe being greater or less than the other. \n",
    "    \n",
    "    Takes each of the two dataframes as input, then the columns that I wish to compare. The \"greater\" toggle is set to True\n",
    "        but can be set to False to change the direction of the comparison.\n",
    "    \n",
    "    The function prints the original length and the new length, and returns the two dataframes as a tuple.\n",
    "    \"\"\"\n",
    "    \n",
    "    print(\"Length of original dataframes:\", features_df.shape[0])\n",
    "    \n",
    "    if greater:\n",
    "        bad_rows = features_df[features_df[features_col] >= target_df[target_col]].index\n",
    "    else:\n",
    "        bad_rows = features_df[features_df[features_col] <= target_df[target_col]].index\n",
    "\n",
    "    features_df = features_df.drop(bad_rows)\n",
    "    target_df = target_df.drop(bad_rows)\n",
    "     \n",
    "    print(\"Length of trimmed dataframes:\", features_df.shape[0])\n",
    "    \n",
    "    return features_df, target_df"
   ]
  },
  {
   "cell_type": "markdown",
   "id": "042dc928-1530-4ddf-8c83-9e608b4fc4af",
   "metadata": {},
   "source": [
    "Let's first trim down the training set, removing observations where the concentration of gold at any of the advanced stages is the same as or less than the original concentration."
   ]
  },
  {
   "cell_type": "code",
   "execution_count": null,
   "id": "2f739fb6-f019-4e1b-a967-6c80e9c1b631",
   "metadata": {},
   "outputs": [],
   "source": [
    "features_train, target_train = trim_rows(features_train, target_train, 'rougher.input.feed_au', 'rougher.output.concentrate_au')"
   ]
  },
  {
   "cell_type": "code",
   "execution_count": null,
   "id": "33f6e5cf-badf-4f60-a399-ad89a128e565",
   "metadata": {},
   "outputs": [],
   "source": [
    "features_train, target_train = trim_rows(features_train, target_train, 'rougher.input.feed_au', 'final.output.concentrate_au')"
   ]
  },
  {
   "cell_type": "markdown",
   "id": "e2c80acc-b38b-423a-8261-2a1aa2477598",
   "metadata": {},
   "source": [
    "About 400 flawed observations were removed. Now let's do the same for the test set."
   ]
  },
  {
   "cell_type": "code",
   "execution_count": null,
   "id": "f0f6351d-1b92-4404-a99d-17ceeedcc76a",
   "metadata": {},
   "outputs": [],
   "source": [
    "features_test, target_test = trim_rows(features_test, target_test, 'rougher.input.feed_au', 'rougher.output.concentrate_au')"
   ]
  },
  {
   "cell_type": "code",
   "execution_count": null,
   "id": "3f17acd1-5f6a-4b15-a32d-1b31e6b814e0",
   "metadata": {},
   "outputs": [],
   "source": [
    "features_test, target_test = trim_rows(features_test, target_test, 'rougher.input.feed_au', 'final.output.concentrate_au')"
   ]
  },
  {
   "cell_type": "markdown",
   "id": "00191674-b8f6-4aba-9ddb-dfb37e280457",
   "metadata": {},
   "source": [
    "About 100 flawed observations were removed."
   ]
  },
  {
   "cell_type": "markdown",
   "id": "1fd30176-3c33-4e27-8100-f383743c8760",
   "metadata": {},
   "source": [
    "I do not have any strong feelings towards the relationships between the concentrations of silver or lead at different stages of the extraction process. Based on the boxplots it seems that the concentration of silver rises after the rougher stage but falls after the purification stages, and that the concentration of lead increases throughout the extraction process. Not too many rows were removed based on the gold concentration values, but we now at least know that our model will not be affected by these obvious anomalies."
   ]
  },
  {
   "cell_type": "markdown",
   "id": "f6d2125b-cce2-4edc-be24-87c531f58c0e",
   "metadata": {},
   "source": [
    "## Check feed size distributions"
   ]
  },
  {
   "cell_type": "markdown",
   "id": "054dd97e-476f-47cc-8eb1-f417309d64a7",
   "metadata": {},
   "source": [
    "Next we should compare the feed particle size between the training set and the test set to ensure that the distributions are similar."
   ]
  },
  {
   "cell_type": "code",
   "execution_count": null,
   "id": "8a7aa208-d283-4927-8c7f-4f3b634e5cf4",
   "metadata": {},
   "outputs": [],
   "source": [
    "plt.figure(figsize=(3,3))\n",
    "plt.title('Feed size in train vs test sets')\n",
    "\n",
    "mask = 'rougher.input.feed_size'\n",
    "features_train[mask][features_train[mask] <= features_train[mask].quantile(0.99)].hist(alpha=0.9)\n",
    "features_test[mask][features_test[mask] <= features_test[mask].quantile(0.99)].hist(alpha=0.9)"
   ]
  },
  {
   "cell_type": "markdown",
   "id": "1de0d34d-d5c5-4455-afeb-88987e7f902d",
   "metadata": {},
   "source": [
    "Distributions are very similar. There are some much higher outliers which I omitted from the histogram. Both distributions are relatively normal. We should be able to evaluate the model well."
   ]
  },
  {
   "cell_type": "markdown",
   "id": "d9d31e59-5d50-419d-abbb-f4cd774718ad",
   "metadata": {},
   "source": [
    "## Complete preprocessing"
   ]
  },
  {
   "cell_type": "markdown",
   "id": "cb2e7455-bfd8-437d-9d92-0d03714db2c6",
   "metadata": {},
   "source": [
    "Now that all other preprocessing steps have been completed and training/testing dataframes have been finalized, I will reset the indexes."
   ]
  },
  {
   "cell_type": "code",
   "execution_count": null,
   "id": "4e2cbd1c-f6a2-412d-aeec-09692e7142f9",
   "metadata": {},
   "outputs": [],
   "source": [
    "features_train = features_train.reset_index(drop=True)\n",
    "target_train = target_train.reset_index(drop=True)\n",
    "features_test = features_test.reset_index(drop=True)\n",
    "target_test = target_test.reset_index(drop=True)"
   ]
  },
  {
   "cell_type": "markdown",
   "id": "d47591ce-0bc9-4117-baca-b5fdc5e6146e",
   "metadata": {
    "tags": []
   },
   "source": [
    "# Build Models"
   ]
  },
  {
   "cell_type": "markdown",
   "id": "59522a6d-1274-4f91-a88f-9affb6a448c8",
   "metadata": {},
   "source": [
    "Time to build the regression the models. I will try out a linear regression model and a random forest regressor model, and score them using cross-validation. I'll evaluate performance based on symmetric mean absolute percent error (sMAPE), select the model with the highest score, and test it on the test set to yield a final sMAPE score. "
   ]
  },
  {
   "cell_type": "markdown",
   "id": "3e0e6a72-f816-42f6-b26d-ab2bb6c5d495",
   "metadata": {
    "tags": []
   },
   "source": [
    "## Calculate sMAPE"
   ]
  },
  {
   "cell_type": "markdown",
   "id": "aae18962-9dc1-4464-b798-d3e4d5b0b714",
   "metadata": {},
   "source": [
    "Writing functions to calculate sMAPE and to combine the rougher and final sMAPE scores into a final score."
   ]
  },
  {
   "cell_type": "code",
   "execution_count": null,
   "id": "9f03adc6-b6e3-4210-985c-637e6fb2a12b",
   "metadata": {},
   "outputs": [],
   "source": [
    "def calc_smape(actual, pred):\n",
    "    \n",
    "    \"\"\"\n",
    "    This function takes a series of answers and of predictions, and calculates symmetric mean absolute percentage error (sMAPE).\n",
    "        It returns the sMAPE value.\n",
    "    \"\"\"\n",
    "    \n",
    "    N = len(actual)\n",
    "    sum = 0\n",
    "    for i in range(N):\n",
    "        numerator = abs(actual[i] - pred[i]) * 100\n",
    "        denominator = (abs(actual[i]) + abs(pred[i])) / 2\n",
    "        sum += (numerator/denominator)\n",
    "    smape = sum / N\n",
    "    \n",
    "    return smape"
   ]
  },
  {
   "cell_type": "code",
   "execution_count": null,
   "id": "70c3c7ee-c1fb-4998-81da-c55cea579f92",
   "metadata": {},
   "outputs": [],
   "source": [
    "def combine_smapes(rougher, final):\n",
    "    \n",
    "    \"\"\"\n",
    "    Calculates a combined sMAPE score using the rougher concentrate sMAPE and final concentrate sMAPE score as inputs.\n",
    "    \"\"\"\n",
    "    \n",
    "    return (0.25 * rougher) + (0.75 * final)"
   ]
  },
  {
   "cell_type": "markdown",
   "id": "1d2870b0-8588-4e63-a5eb-4bb50a5b5130",
   "metadata": {},
   "source": [
    "## Train/evaluate the models"
   ]
  },
  {
   "cell_type": "markdown",
   "id": "3a434b77-76a7-468d-9d1f-c4af2859dbd3",
   "metadata": {},
   "source": [
    "Normally I would use the cross-validation function offered by sklearn, but due to having several targets and a different type of score, I will need to use a more customizable version. Cross-validation will allow me to select the model with the lower sMAPE score. At that point I will train that model type on the entirety of the training data and then test it on the test set for a final tested sMAPE score. "
   ]
  },
  {
   "cell_type": "code",
   "execution_count": null,
   "id": "3c4625f9-e898-4eb5-bc5d-de48d965506b",
   "metadata": {
    "tags": []
   },
   "outputs": [],
   "source": [
    "def cross_val(features, targets, model_type, sets=5):\n",
    "\n",
    "    \"\"\" \n",
    "    This function cross-validates regression models, calculates sMAPE using a separate function, and prints the average combined\n",
    "        sMAPE score.\n",
    "    \n",
    "    The features and targets dataframes are the first inputs, followed by 'LR' or 'RF' to train linear regression or random forest\n",
    "        regression models, respectively. The function, by default, uses five rotating sets for cross-validation, but this value \n",
    "        can be changed.\n",
    "    \"\"\"\n",
    "    \n",
    "    scores = []\n",
    "    sample_size = int(len(features)/sets)\n",
    "\n",
    "    for i in range(0, len(features), sample_size):\n",
    "        valid_indexes = list(range(i, i + sample_size))\n",
    "        train_indexes = list(range(0, i)) + list(range(i + sample_size, len(features)))\n",
    "\n",
    "#         Split variables features and target into samples features_train, target_train, features_valid, target_valid\n",
    "        features_train = features.iloc[train_indexes].reset_index(drop=True)\n",
    "        features_valid = features.iloc[valid_indexes].reset_index(drop=True)\n",
    "        target_train = targets.iloc[train_indexes, 4:6].reset_index(drop=True)\n",
    "        target_valid = targets.iloc[valid_indexes, 4:6].reset_index(drop=True)\n",
    "        \n",
    "#         Build model and store predictions based on model type chosen\n",
    "        if model_type == 'LR':\n",
    "            model = LinearRegression()\n",
    "            model.fit(features_train, target_train)\n",
    "            pred = pd.DataFrame(model.predict(features_valid))\n",
    "        if model_type == 'RF':\n",
    "            model = RandomForestRegressor(max_features=1.0, n_estimators=60, max_depth=10, random_state=0)\n",
    "            # Hyperparameters chosen through trial and error\n",
    "            model.fit(features_train, target_train)\n",
    "            pred = pd.DataFrame(model.predict(features_valid))\n",
    "        \n",
    "#         Store answers and specific predictions\n",
    "        rougher_recov_actual = target_valid['rougher.output.recovery']\n",
    "        final_recov_actual = target_valid['final.output.recovery']\n",
    "        rougher_recov_pred = pred.iloc[:,0]\n",
    "        final_recov_pred = pred.iloc[:,1]      \n",
    "        \n",
    "#         Calculate sMAPE\n",
    "        rougher_smape = calc_smape(rougher_recov_actual, rougher_recov_pred)\n",
    "        final_smape = calc_smape(final_recov_actual, final_recov_pred)\n",
    "        combined_smape = combine_smapes(rougher_smape, final_smape)\n",
    "        \n",
    "        scores.append(combined_smape)\n",
    "        \n",
    "    final_score = round(pd.Series(scores).mean(), 2)\n",
    "    print(f'Average model symmetric mean percent error: {final_score}%')"
   ]
  },
  {
   "cell_type": "markdown",
   "id": "353dae8c-9728-43c7-b0f2-fc29116cc2cf",
   "metadata": {},
   "source": [
    "Let's use this function to find the average combined sMAPE for a linear regression model."
   ]
  },
  {
   "cell_type": "code",
   "execution_count": null,
   "id": "de161f81-ad03-4ae4-be07-f59b9aa54dab",
   "metadata": {},
   "outputs": [],
   "source": [
    "cross_val(features_train, target_train, 'LR')"
   ]
  },
  {
   "cell_type": "markdown",
   "id": "deb6aaec-f4dc-4944-9056-9999bf007d26",
   "metadata": {},
   "source": [
    "And now for the random forest regression model."
   ]
  },
  {
   "cell_type": "code",
   "execution_count": null,
   "id": "79a8dcf4-ac33-4983-94fc-7e8dae413e90",
   "metadata": {},
   "outputs": [],
   "source": [
    "cross_val(features_train, target_train, 'RF')"
   ]
  },
  {
   "cell_type": "markdown",
   "id": "1373f0bf-6a74-49c5-a05f-68b3bd74ec39",
   "metadata": {},
   "source": [
    "The random forest regression model has a distinctly lower sMAPE, at 5.2%, so I will use that model type. I will train the random forest regression model on the complete training set, then find the sMAPE on the test set."
   ]
  },
  {
   "cell_type": "code",
   "execution_count": null,
   "id": "ff005c99-cb4b-4299-9214-e16a457b4c2f",
   "metadata": {},
   "outputs": [],
   "source": [
    "# model = LinearRegression()\n",
    "model_forest = RandomForestRegressor(max_features=1.0, n_estimators=60, max_depth=10, random_state=0)\n",
    "model_forest.fit(features_train, target_train.iloc[:, 4:6])\n",
    "pred = pd.DataFrame(model_forest.predict(features_test))\n",
    "\n",
    "rougher_recov_actual = target_test['rougher.output.recovery']\n",
    "final_recov_actual = target_test['final.output.recovery']\n",
    "rougher_recov_pred = pred.iloc[:,0]\n",
    "final_recov_pred = pred.iloc[:,1]      \n",
    "        \n",
    "#         Calculate sMAPE\n",
    "rougher_smape = calc_smape(rougher_recov_actual, rougher_recov_pred)\n",
    "final_smape = calc_smape(final_recov_actual, final_recov_pred)\n",
    "combined_smape = combine_smapes(rougher_smape, final_smape)\n",
    "\n",
    "print(f'Combined sMAPE: {round(combined_smape, 2)}%')"
   ]
  },
  {
   "cell_type": "markdown",
   "id": "694fec10-bd92-45b7-b25e-ae04bb447bc7",
   "metadata": {},
   "source": [
    "The tested combined sMAPE is somewhat higher than it was for the cross-validated set, but it is still below 10%, which seems acceptable, as Zyfra did not list any requirements for maximum tested sMAPE allowed in a working model. The random forest model does take longer to train than the linear regression model did, but the runtime difference is not egregious.\n",
    "\n",
    "I peeked at how the linear regression model performed on the test set, and it performed about as well as it did on the cross-validation sets, but this is just one testing dataset. Because the cross-validation averaged sMAPE was lower for the random forest regression model, this model should hopefully perform better in general across future datasets."
   ]
  },
  {
   "cell_type": "code",
   "execution_count": null,
   "id": "e9c4ec7e-4345-4c00-9cf9-abadce82e1fa",
   "metadata": {},
   "outputs": [],
   "source": [
    "# Save the model to a joblib file for further use\n",
    "dump(model_forest, 'ZyfraGoldRecoveryPredictor.joblib')"
   ]
  },
  {
   "cell_type": "markdown",
   "id": "0dd229be-4e50-45ec-99af-b8a4754fef8c",
   "metadata": {},
   "source": [
    "# Conclusion"
   ]
  },
  {
   "cell_type": "markdown",
   "id": "65fa9e38-2334-41e4-a862-152cabe4e322",
   "metadata": {},
   "source": [
    "I received three datasets from Zyfra - one full dataset, and training and test sets already split up for me. The test set contained only features that would be available to the company at the beginning of the extraction process, so I had to revise the training set to reflect only those features. The aim was to build a model to predict gold concentrate recovery at the rougher stage and at the final stage of extraction, using symmetric mean absolute percent error for both recoveries and finding a weighted average of them. The recovery included with the data needed to make sense, so I calculated the recovery using a given equation, which matched the recovery in the dataset. I looked at the concentrations of metals at each stage of the process, and filtered out observations that made no sense. I evaluated the distributions of feed size in the training and test sets to make sure they were similar. Beyond that, I dropped missing values after trimming my training and testing datasets to preserve as many observations as possible.\n",
    "\n",
    "I cross-validated linear regression and random forest regression models, finding that the random forest model had lower error, with a sMAPE of 5.17%. I trained this model with the same hyperparameters on the full training set and tested it, yielding a 7.87% sMAPE. Zyfra provided no requirements for sMAPE, so a tested sMAPE of less than 10% seems acceptable, especially when the validated set had closer to a 5% sMAPE. However, if the company sets requirements down the road for training runtime, the linear regression model should perform almost as well in a fraction of the time; this model trained quickly enough, but much larger datasets may become prohibitively slow. I saved the random forest model to a .joblib file for further use by the company."
   ]
  }
 ],
 "metadata": {
  "kernelspec": {
   "display_name": "Python 3 (ipykernel)",
   "language": "python",
   "name": "python3"
  },
  "language_info": {
   "codemirror_mode": {
    "name": "ipython",
    "version": 3
   },
   "file_extension": ".py",
   "mimetype": "text/x-python",
   "name": "python",
   "nbconvert_exporter": "python",
   "pygments_lexer": "ipython3",
   "version": "3.9.16"
  }
 },
 "nbformat": 4,
 "nbformat_minor": 5
}
